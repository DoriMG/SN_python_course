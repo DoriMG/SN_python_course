{
 "cells": [
  {
   "cell_type": "markdown",
   "metadata": {},
   "source": [
    "### Exercise 2a: find the even values in this numpy array\n",
    "\n",
    "Use indexing to find all the values in the array that are even. Don't use a for-loop!\n",
    "\n",
    "* Hint 1: Have a look at how the array is made. It uses np.arange, a very useful function. np.arange(start, stop, step) makes an ndarray starting at 'start', stopping at 'stop' (non-inclusive) with a step of 'step'. \n",
    "* Hint 2: Remember an even value is value % 2 == 0"
   ]
  },
  {
   "cell_type": "code",
   "execution_count": 1,
   "metadata": {},
   "outputs": [],
   "source": [
    "import numpy as np\n",
    "array = np.arange(0,10,1) \n"
   ]
  },
  {
   "cell_type": "markdown",
   "metadata": {},
   "source": [
    "### Exercise 2b: replace values below threshold with 0\n",
    "This is a repeat of exercise 1e, but now we're going to use a numpy array and indexing to write the answer in just 1 line. \n",
    "\n",
    "* Hint 1: Don't make a new array, you can just replace the values in 'myarray'"
   ]
  },
  {
   "cell_type": "code",
   "execution_count": 2,
   "metadata": {},
   "outputs": [],
   "source": [
    "myarray = np.array([1,2,9,3,2,8,3,3,11,2])\n",
    "threshold = 5\n"
   ]
  },
  {
   "cell_type": "markdown",
   "metadata": {},
   "source": [
    "### Exercise 2c: find the positions\n",
    "Find the positions in the array where the array is exactly 3.\n",
    "\n",
    "* Hint 1: You will need to use the function np.where. Find out more about the function in the documentation: https://docs.scipy.org/doc/numpy/reference/generated/numpy.where.html"
   ]
  },
  {
   "cell_type": "code",
   "execution_count": 3,
   "metadata": {},
   "outputs": [],
   "source": [
    "myarray = np.array([1,2,9,3,2,8,3,3,11,2])"
   ]
  },
  {
   "cell_type": "markdown",
   "metadata": {},
   "source": [
    "### Exercise 2d: Find mean, median and standard deviation\n",
    "Find the mean, median and standard deviation of the array. Use a numpy function for this\n",
    "\n",
    "* Hint 1: Try to google 'numpy mean' to find the documentation for the function"
   ]
  },
  {
   "cell_type": "code",
   "execution_count": null,
   "metadata": {},
   "outputs": [],
   "source": [
    "myarray = np.array([1,2,9,3,2,8,3,3,11,2])\n"
   ]
  },
  {
   "cell_type": "markdown",
   "metadata": {},
   "source": [
    "### Exercise 2e: Find mean, median and standard deviation of each row\n",
    "Find the mean, median and standard deviation of each row in the array. Use the same numpy function as above, but you need to add the axis parameter. Read through the documentation or use the help function if you're not sure how to use it.\n"
   ]
  },
  {
   "cell_type": "code",
   "execution_count": 4,
   "metadata": {},
   "outputs": [],
   "source": [
    "myarray = np.array([[1,2,3],\n",
    "                    [4,5,6],\n",
    "                    [7,8,9]])\n"
   ]
  },
  {
   "cell_type": "markdown",
   "metadata": {},
   "source": [
    "### Exercise 2f: Time spent in quadrants\n",
    "This array contains  the quadrant a mouse was in at each time point (in seconds). Find the total time (i.e. how often that number appears in the array) for each quadrant.\n",
    "\n",
    "* Hint 1: You can do this either using indexing (like above) or using the 'unique' function (https://docs.scipy.org/doc/numpy/reference/generated/numpy.unique.html)\n",
    "* Hint 2: Have a look at how the quadrants variable was made and see if you can figure out how to make a quadrants array with 200 values from 1 to 6.\n"
   ]
  },
  {
   "cell_type": "code",
   "execution_count": 5,
   "metadata": {},
   "outputs": [],
   "source": [
    "quadrants = np.random.choice([1,2,3,4],100)"
   ]
  },
  {
   "cell_type": "markdown",
   "metadata": {},
   "source": [
    "### Exercise 2g: cumulative distance in numpy\n",
    "Write a function to find the cumulative distance of a list of x,y coordinates. However, this time we are going to use a numpy array and you need to use a scipy function to calculate the distance. \n",
    "\n",
    "* Hint 1: Scipy distance has already been imported for you, which means that now you can use the distance functions. You will need to use distance.euclidean (more info here https://docs.scipy.org/doc/scipy-0.14.0/reference/generated/scipy.spatial.distance.euclidean.html)"
   ]
  },
  {
   "cell_type": "code",
   "execution_count": 15,
   "metadata": {},
   "outputs": [],
   "source": [
    "from scipy.spatial import distance\n",
    "coordinates = np.array(\n",
    "              [[1,2],\n",
    "               [1,3],\n",
    "               [2,3],\n",
    "               [3,4],\n",
    "               [4,4]])"
   ]
  },
  {
   "cell_type": "markdown",
   "metadata": {},
   "source": [
    "### Exercise 2h: load data into a numpy array\n",
    "In the folder 'data' you find a csv-file called 'loco'. You can load data like this into numpy using the function 'genfromtxt' (https://numpy.org/devdocs/user/basics.io.genfromtxt.html). Try to load the data and find the maximum location in the array. \n",
    "\n",
    "* Hint 1: Open the file to check out what the data looks like. \n",
    "* Hint 2: You want to skip the header, the delimiter is ',' and you will only need the second column. You can set all of these things using the parameters in the genfromtxt function\n"
   ]
  },
  {
   "cell_type": "code",
   "execution_count": 16,
   "metadata": {},
   "outputs": [],
   "source": [
    "import os\n",
    "datafile = os.path.join('data', 'loco.csv')"
   ]
  }
 ],
 "metadata": {
  "kernelspec": {
   "display_name": "Python 3",
   "language": "python",
   "name": "python3"
  },
  "language_info": {
   "codemirror_mode": {
    "name": "ipython",
    "version": 3
   },
   "file_extension": ".py",
   "mimetype": "text/x-python",
   "name": "python",
   "nbconvert_exporter": "python",
   "pygments_lexer": "ipython3",
   "version": "3.7.1"
  }
 },
 "nbformat": 4,
 "nbformat_minor": 2
}
