{
 "cells": [
  {
   "cell_type": "markdown",
   "metadata": {},
   "source": [
    "### Exercise 3: recreate a figure\n",
    "\n",
    "You have learned how to do data visualization using matplotlib. We are going to put this knowledge to the test by recreating this figure from a recent paper 'EEG Analytics for Early Detection of Autism Spectrum Disorder: A data-driven approach' by William J. Bosl, Helen Tager-Flusberg & Charles A. Nelson. \n",
    "\n",
    "![](example_figures\\example_fig_eeg.jpg)\n",
    "\n",
    "There are a lot of things going on in this figure. Try to go through the following steps to produce a plot that looks similar to the example plot. "
   ]
  },
  {
   "cell_type": "markdown",
   "metadata": {},
   "source": [
    "The code below produces the data for the plot: \n",
    "* age is the age at every datapoint in the asd, hra and lrc datasets\n",
    "* asd, hra, lrc are the solid lines\n",
    "* asd_std, hra_std and lrc_std are the error for the lines above (shaded areas in the plot)\n",
    "* corr_x is the age values for each correlation value\n",
    "* corr_y are the datapoints for the correlation line (each point is one of the crosses)\n",
    "* asd_meas, hra_meas and lrc_meas are the datapoints for the measure scores (dashed lines)\n",
    "\n",
    "You don't need to understand exactly how linspace works or how the data is created.\n"
   ]
  },
  {
   "cell_type": "code",
   "execution_count": 30,
   "metadata": {},
   "outputs": [],
   "source": [
    "import numpy as np\n",
    "\n",
    "age = [a/50*34+3 for a in list(range(50))]\n",
    "\n",
    "asd = np.linspace(4.8, 4.75)\n",
    "hra = np.linspace(2.75, 3.28)\n",
    "lrc = np.linspace(1.2, 1.45)\n",
    "\n",
    "asd_std = np.linspace(-0.2, 0.2)**2+0.2\n",
    "hra_std = np.linspace(-0.1, 0.3)**2+0.15\n",
    "lrc_std = np.linspace(-0.1, 0.2)**2+0.05\n",
    "\n",
    "corr_x = [3, 6, 9, 12, 19, 24, 36]\n",
    "corr_y = [4.3, 5.1, 4.3, 3.4, 5.1, 4.9, 5.0]\n",
    "\n",
    "asd_meas = 4.5\n",
    "hra_meas = 2.0\n",
    "lrc_meas = 1.5"
   ]
  },
  {
   "cell_type": "markdown",
   "metadata": {},
   "source": [
    "#### Step 1: multiple lines in a plot\n",
    "The example plot was probably made in ggplot and has the default ggplot style, so we're going to use the 'style' module to emulate this in Python. The code below also shows the example of how to plot 1 line.\n",
    "\n",
    "Make a single plot that contains all of the above data. Note the following:\n",
    "* Not all line have the same x-values, make sure you use the correct ones.\n",
    "* The measure scores are single numbers. You need to either make them into an array to plot it using plt.plot, or you can use the function axhline (https://matplotlib.org/api/pyplot_api.html#matplotlib.pyplot.axhline)"
   ]
  },
  {
   "cell_type": "code",
   "execution_count": 33,
   "metadata": {},
   "outputs": [
    {
     "data": {
      "text/plain": [
       "[<matplotlib.lines.Line2D at 0x1843a9ee358>]"
      ]
     },
     "execution_count": 33,
     "metadata": {},
     "output_type": "execute_result"
    },
    {
     "data": {
      "image/png": "[encoded data removed]",
      "text/plain": [
       "<Figure size 432x288 with 1 Axes>"
      ]
     },
     "metadata": {},
     "output_type": "display_data"
    }
   ],
   "source": [
    "import matplotlib.pyplot as plt\n",
    "%matplotlib inline\n",
    "\n",
    "from matplotlib import style\n",
    "style.use('ggplot') \n",
    "\n",
    "### Write your code below here\n",
    "plt.plot(age, asd) # This is an example of one of the lines"
   ]
  },
  {
   "cell_type": "markdown",
   "metadata": {},
   "source": [
    "#### Step 2: Add the proper x and y labels and a title\n"
   ]
  },
  {
   "cell_type": "markdown",
   "metadata": {},
   "source": [
    "#### Step 3: Give the lines the right style and colour\n",
    "The lines in the example plot all have their own color and style (dashed, with/without markers, etc). Make sure each line in the plot has the right colour, style and marker style. Note: if you've used axhline in the previous step, you need to use the parameters 'color' and 'linestyle' for this. "
   ]
  },
  {
   "cell_type": "markdown",
   "metadata": {},
   "source": [
    "#### Step 4: Add the shaded errorbars\n",
    "\n",
    "You need to add shaded areas around the asd, hra and lrc lines to indicate the std. To do this, you need to use the function 'fill_between'. See here https://matplotlib.org/3.1.1/api/_as_gen/matplotlib.axes.Axes.fill_between.html and here https://stackoverflow.com/questions/12957582/plot-yerr-xerr-as-shaded-region-rather-than-error-bars for more information. You will probably need to use the 'alpha' parameter, which indicates how see-through an element is."
   ]
  },
  {
   "cell_type": "markdown",
   "metadata": {},
   "source": [
    "#### Step 5: Add text\n",
    "You can easily add text into a Python plot using plt.text (https://matplotlib.org/3.1.1/api/_as_gen/matplotlib.pyplot.text.html). This takes position parameters in your plot in coordinates."
   ]
  },
  {
   "cell_type": "markdown",
   "metadata": {},
   "source": [
    "#### Step 6: Add a legend\n",
    "\n",
    "Add a legend to the figure. Don't worry too much about exactly emulating the legend of the example figure, but do make sure it is on the left outside the plot. You can use bbox_to_anchor to achieve this"
   ]
  }
 ],
 "metadata": {
  "kernelspec": {
   "display_name": "Python 3",
   "language": "python",
   "name": "python3"
  },
  "language_info": {
   "codemirror_mode": {
    "name": "ipython",
    "version": 3
   },
   "file_extension": ".py",
   "mimetype": "text/x-python",
   "name": "python",
   "nbconvert_exporter": "python",
   "pygments_lexer": "ipython3",
   "version": "3.7.1"
  }
 },
 "nbformat": 4,
 "nbformat_minor": 2
}
