{
 "cells": [
  {
   "cell_type": "markdown",
   "metadata": {},
   "source": [
    "### Exercise 2: Data with missing values\n",
    "\n",
    "You now know how to work with numpy arrays. We're going to use a numpy array to analyse our data. The data is stored in my_data. They are cell traces of 100 frames. Your first step is characterize the data using the attributes of a numpy array. How many cells are in the dataset? \n",
    "\n",
    "Your data has some outliers. You know that any value above 20 is a fluke, so replace all of these with NaNs.\n",
    "\n",
    "Using your clean dataset, calculate the mean value for each cell, as well as the standard deviation. Make sure this value is not NaN!\n",
    "\n",
    "Note: The data is created randomly, so your answer might be different than the answer of the person next to you."
   ]
  },
  {
   "cell_type": "code",
   "execution_count": 24,
   "metadata": {},
   "outputs": [],
   "source": [
    "import numpy as np\n",
    "import random\n",
    "\n",
    "my_data = np.random.exponential(1.0, (np.random.randint(0,10), 100))\n",
    "for row in my_data:\n",
    "    row[random.sample(list(np.arange(100)),5)] = 100"
   ]
  },
  {
   "cell_type": "code",
   "execution_count": 25,
   "metadata": {},
   "outputs": [],
   "source": [
    "### Write your code here ###"
   ]
  },
  {
   "cell_type": "code",
   "execution_count": null,
   "metadata": {},
   "outputs": [],
   "source": []
  }
 ],
 "metadata": {
  "kernelspec": {
   "display_name": "Python 3",
   "language": "python",
   "name": "python3"
  },
  "language_info": {
   "codemirror_mode": {
    "name": "ipython",
    "version": 3
   },
   "file_extension": ".py",
   "mimetype": "text/x-python",
   "name": "python",
   "nbconvert_exporter": "python",
   "pygments_lexer": "ipython3",
   "version": "3.7.1"
  }
 },
 "nbformat": 4,
 "nbformat_minor": 2
}
