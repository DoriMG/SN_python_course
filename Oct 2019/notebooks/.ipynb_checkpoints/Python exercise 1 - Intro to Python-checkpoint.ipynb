{
 "cells": [
  {
   "cell_type": "markdown",
   "metadata": {},
   "source": [
    "### 1a: save odd numbers into new list\n",
    "\n",
    "You have now learned about variables, lists, if-statements and for-loops, and we're going to bring it into practice with a little exercise. The cell below has the start of some code that takes the list 'all_numbers' and needs to find all the odd numbers in the list and and save them to a new list 'odd_numbers'. You need to use at least a for-loop and an if-statement. \n",
    "\n",
    "After you're done, you can execute the second cell to test whether you found the right answer."
   ]
  },
  {
   "cell_type": "code",
   "execution_count": 1,
   "metadata": {},
   "outputs": [],
   "source": [
    "all_numbers = list(range(10))\n",
    "odd_numbers = []\n"
   ]
  },
  {
   "cell_type": "code",
   "execution_count": 2,
   "metadata": {},
   "outputs": [
    {
     "name": "stdout",
     "output_type": "stream",
     "text": [
      "Oh no, try again!\n"
     ]
    }
   ],
   "source": [
    "## write a proper unit test here:\n",
    "answer = list(range(1,10,2))\n",
    "if odd_numbers == answer:\n",
    "    print('You found the right answer!')\n",
    "else:\n",
    "    print('Oh no, try again!')    "
   ]
  },
  {
   "cell_type": "markdown",
   "metadata": {},
   "source": [
    "### 1b: find the leaders\n",
    "\n",
    "This exercise is slightly more difficult (and can earn you 7 kyu on codewars!). A leader is defined as a number in a list that's bigger than the sum of all the numbers to the right of it. Your code should be able to find all the leaders in the list. Save the leaders into the list 'leaders'. The code creates a list of ints at random, so make sure to run your code a few times and check if it works for every run.\n",
    "\n",
    "Tip 1: you can use the *sum* function to find the sum of elements (e.g. sum(mylist))\n",
    "Tip 2: try to write out your steps by hand before coding it. What for-loop should you use? What is the conditional? "
   ]
  },
  {
   "cell_type": "code",
   "execution_count": 3,
   "metadata": {},
   "outputs": [],
   "source": [
    "import random\n",
    "all_numbers = [random.randint(0,50) for i in range(5)]\n",
    "leaders = []\n"
   ]
  },
  {
   "cell_type": "markdown",
   "metadata": {},
   "source": [
    "### 1c: Make a function to find spikes in your data\n",
    "\n",
    "In this exercise the goal is to make a function that you could use on calcium data. The function finds spikes larger than a certain threshold within a list of datapoints (min = 0, max = 1). The functions should take the calcium data as a variable and the threshold as an optional variable (so be sure to set a default for the threshold). The function should return both the thresholded data, and a list of spike times.\n",
    "\n",
    "If you run the second cell, this should plot both your thresholded trace and the spike times you calculated. you can use it to test your function"
   ]
  },
  {
   "cell_type": "code",
   "execution_count": 4,
   "metadata": {},
   "outputs": [],
   "source": [
    "import numpy as np\n",
    "calciumdata = np.random.exponential(1,(100,1))\n",
    "threshold = np.nanmean(calciumdata) + 3*np.nanstd(calciumdata)\n",
    "\n",
    "def find_spikes():\n",
    "    ## write your code here\n",
    "    return \n"
   ]
  },
  {
   "cell_type": "code",
   "execution_count": 5,
   "metadata": {},
   "outputs": [
    {
     "ename": "TypeError",
     "evalue": "find_spikes() takes 0 positional arguments but 2 were given",
     "output_type": "error",
     "traceback": [
      "\u001b[1;31m---------------------------------------------------------------------------\u001b[0m",
      "\u001b[1;31mTypeError\u001b[0m                                 Traceback (most recent call last)",
      "\u001b[1;32m<ipython-input-5-b01ef11eff82>\u001b[0m in \u001b[0;36m<module>\u001b[1;34m\u001b[0m\n\u001b[0;32m      7\u001b[0m     \u001b[0mplt\u001b[0m\u001b[1;33m.\u001b[0m\u001b[0mlegend\u001b[0m\u001b[1;33m(\u001b[0m\u001b[1;33m(\u001b[0m\u001b[1;34m'Thresholded data'\u001b[0m\u001b[1;33m,\u001b[0m \u001b[1;34m'Spike Times'\u001b[0m\u001b[1;33m)\u001b[0m\u001b[1;33m)\u001b[0m\u001b[1;33m\u001b[0m\u001b[1;33m\u001b[0m\u001b[0m\n\u001b[0;32m      8\u001b[0m \u001b[1;33m\u001b[0m\u001b[0m\n\u001b[1;32m----> 9\u001b[1;33m \u001b[0mtest_find_spikes\u001b[0m\u001b[1;33m(\u001b[0m\u001b[0mcalciumdata\u001b[0m\u001b[1;33m,\u001b[0m \u001b[0mthreshold\u001b[0m\u001b[1;33m)\u001b[0m\u001b[1;33m\u001b[0m\u001b[1;33m\u001b[0m\u001b[0m\n\u001b[0m",
      "\u001b[1;32m<ipython-input-5-b01ef11eff82>\u001b[0m in \u001b[0;36mtest_find_spikes\u001b[1;34m(data, threshold)\u001b[0m\n\u001b[0;32m      2\u001b[0m \u001b[1;32mimport\u001b[0m \u001b[0mmatplotlib\u001b[0m\u001b[1;33m.\u001b[0m\u001b[0mpyplot\u001b[0m \u001b[1;32mas\u001b[0m \u001b[0mplt\u001b[0m\u001b[1;33m\u001b[0m\u001b[1;33m\u001b[0m\u001b[0m\n\u001b[0;32m      3\u001b[0m \u001b[1;32mdef\u001b[0m \u001b[0mtest_find_spikes\u001b[0m\u001b[1;33m(\u001b[0m\u001b[0mdata\u001b[0m\u001b[1;33m,\u001b[0m \u001b[0mthreshold\u001b[0m\u001b[1;33m)\u001b[0m\u001b[1;33m:\u001b[0m\u001b[1;33m\u001b[0m\u001b[1;33m\u001b[0m\u001b[0m\n\u001b[1;32m----> 4\u001b[1;33m     \u001b[0mthresh_data\u001b[0m\u001b[1;33m,\u001b[0m \u001b[0mspike_times\u001b[0m \u001b[1;33m=\u001b[0m \u001b[0mfind_spikes\u001b[0m\u001b[1;33m(\u001b[0m\u001b[0mdata\u001b[0m\u001b[1;33m,\u001b[0m \u001b[0mthreshold\u001b[0m\u001b[1;33m)\u001b[0m\u001b[1;33m\u001b[0m\u001b[1;33m\u001b[0m\u001b[0m\n\u001b[0m\u001b[0;32m      5\u001b[0m     \u001b[0mplt\u001b[0m\u001b[1;33m.\u001b[0m\u001b[0mplot\u001b[0m\u001b[1;33m(\u001b[0m\u001b[0mthresh_data\u001b[0m\u001b[1;33m)\u001b[0m\u001b[1;33m\u001b[0m\u001b[1;33m\u001b[0m\u001b[0m\n\u001b[0;32m      6\u001b[0m     \u001b[0mplt\u001b[0m\u001b[1;33m.\u001b[0m\u001b[0mscatter\u001b[0m\u001b[1;33m(\u001b[0m\u001b[0mspike_times\u001b[0m\u001b[1;33m,\u001b[0m \u001b[0mnp\u001b[0m\u001b[1;33m.\u001b[0m\u001b[0masarray\u001b[0m\u001b[1;33m(\u001b[0m\u001b[0mdata\u001b[0m\u001b[1;33m)\u001b[0m\u001b[1;33m[\u001b[0m\u001b[0mspike_times\u001b[0m\u001b[1;33m]\u001b[0m\u001b[1;33m)\u001b[0m\u001b[1;33m\u001b[0m\u001b[1;33m\u001b[0m\u001b[0m\n",
      "\u001b[1;31mTypeError\u001b[0m: find_spikes() takes 0 positional arguments but 2 were given"
     ]
    }
   ],
   "source": [
    "%matplotlib inline\n",
    "import matplotlib.pyplot as plt\n",
    "def test_find_spikes(data, threshold):\n",
    "    thresh_data, spike_times = find_spikes(data, threshold)\n",
    "    plt.plot(thresh_data)\n",
    "    plt.scatter(spike_times, np.asarray(data)[spike_times])\n",
    "    plt.legend(('Thresholded data', 'Spike Times'))\n",
    "    \n",
    "test_find_spikes(calciumdata, threshold)\n"
   ]
  },
  {
   "cell_type": "code",
   "execution_count": null,
   "metadata": {},
   "outputs": [],
   "source": []
  }
 ],
 "metadata": {
  "kernelspec": {
   "display_name": "Python 3",
   "language": "python",
   "name": "python3"
  },
  "language_info": {
   "codemirror_mode": {
    "name": "ipython",
    "version": 3
   },
   "file_extension": ".py",
   "mimetype": "text/x-python",
   "name": "python",
   "nbconvert_exporter": "python",
   "pygments_lexer": "ipython3",
   "version": "3.7.1"
  }
 },
 "nbformat": 4,
 "nbformat_minor": 2
}
