{
 "cells": [
  {
   "cell_type": "markdown",
   "metadata": {},
   "source": [
    "### 1a: save odd numbers into new list\n",
    "\n",
    "You have now learned about variables, lists, if-statements and for-loops, and we're going to bring it into practice with a little exercise. The cell below has the start of some code that takes the list 'all_numbers' and needs to find all the odd numbers in the list and and save them to a new list 'odd_numbers'. You need to use at least a for-loop and an if-statement. \n",
    "\n",
    "After you're done, you can execute the second cell to test whether you found the right answer."
   ]
  },
  {
   "cell_type": "code",
   "execution_count": 35,
   "metadata": {},
   "outputs": [],
   "source": [
    "all_numbers = list(range(10))\n",
    "odd_numbers = []\n",
    "\n"
   ]
  },
  {
   "cell_type": "code",
   "execution_count": 36,
   "metadata": {},
   "outputs": [
    {
     "name": "stdout",
     "output_type": "stream",
     "text": [
      "You found the right answer!\n"
     ]
    }
   ],
   "source": [
    "## write a proper unit test here:\n",
    "answer = list(range(1,10,2))\n",
    "if odd_numbers == answer:\n",
    "    print('You found the right answer!')\n",
    "else:\n",
    "    print('Oh no, try again!')    "
   ]
  },
  {
   "cell_type": "markdown",
   "metadata": {},
   "source": [
    "### 1b: find the leaders\n",
    "\n",
    "This exercise is slightly more difficult. A leader is defined as a number in a list that's bigger than the sum of all the numbers to the right of it. Your code should be able to find all the leaders in the list. Save the leaders into the list 'leaders'. The code creates a list of ints at random, so make sure to run your code a few times and check if it works for every run.\n",
    "\n",
    "* Hint 1: you can use the *sum* function to find the sum of elements (e.g. sum(mylist))\n",
    "* Hint 2: try to write out your steps by hand before coding it. What for-loop should you use? What is the conditional? \n",
    "* Hint 3: 'enumerate' might come in handy here (but you can do without)"
   ]
  },
  {
   "cell_type": "code",
   "execution_count": 37,
   "metadata": {},
   "outputs": [],
   "source": [
    "import random\n",
    "all_numbers = [random.randint(0,50) for i in range(5)]\n",
    "leaders = []\n"
   ]
  },
  {
   "cell_type": "markdown",
   "metadata": {},
   "source": [
    "### 1c: sum function\n",
    "\n",
    "The goal of this exercise is to write your first function. The function should find the sum of the three numbers inputted into it and return it. You will get the outline of the function and write the function body.\n",
    "\n",
    "* Hint 1: Don't forget that the body of the function (all the code inside) has to be indented\n",
    "* Hint 2: Don't forget to 'return' the answer"
   ]
  },
  {
   "cell_type": "code",
   "execution_count": 38,
   "metadata": {},
   "outputs": [
    {
     "ename": "SyntaxError",
     "evalue": "unexpected EOF while parsing (<ipython-input-38-bb586f1d6b91>, line 7)",
     "output_type": "error",
     "traceback": [
      "\u001b[1;36m  File \u001b[1;32m\"<ipython-input-38-bb586f1d6b91>\"\u001b[1;36m, line \u001b[1;32m7\u001b[0m\n\u001b[1;33m    \u001b[0m\n\u001b[1;37m    ^\u001b[0m\n\u001b[1;31mSyntaxError\u001b[0m\u001b[1;31m:\u001b[0m unexpected EOF while parsing\n"
     ]
    }
   ],
   "source": [
    "a = 4\n",
    "b = 3\n",
    "c = 7\n",
    "\n",
    "def find_sum(a,b,c):\n",
    "    # Write your function here\n",
    "\n"
   ]
  },
  {
   "cell_type": "code",
   "execution_count": 39,
   "metadata": {},
   "outputs": [
    {
     "name": "stdout",
     "output_type": "stream",
     "text": [
      "Your function does not return the right answer, try again\n"
     ]
    }
   ],
   "source": [
    "# Run this cell to check if your function is right. If you get and \n",
    "\n",
    "try:\n",
    "    assert find_sum(a, b, c)==14\n",
    "except:\n",
    "    print('Your function does not return the right answer, try again')\n",
    "    "
   ]
  },
  {
   "cell_type": "markdown",
   "metadata": {},
   "source": [
    "### 1d: outlier function\n",
    "\n",
    "Make a function that takes both a list and a threshold as an input and finds the position of the values in that list that are above the given threshold. \n",
    "\n",
    "* Hint 1: Enumerate will come in very handy here!\n",
    "* Hint 2: Can you try to make the threshold an optional variable?"
   ]
  },
  {
   "cell_type": "code",
   "execution_count": 21,
   "metadata": {},
   "outputs": [
    {
     "ename": "SyntaxError",
     "evalue": "unexpected EOF while parsing (<ipython-input-21-830f42a75370>, line 5)",
     "output_type": "error",
     "traceback": [
      "\u001b[1;36m  File \u001b[1;32m\"<ipython-input-21-830f42a75370>\"\u001b[1;36m, line \u001b[1;32m5\u001b[0m\n\u001b[1;33m    # Write your function here\u001b[0m\n\u001b[1;37m                              ^\u001b[0m\n\u001b[1;31mSyntaxError\u001b[0m\u001b[1;31m:\u001b[0m unexpected EOF while parsing\n"
     ]
    }
   ],
   "source": [
    "mylist = [1,2,9,3,2,8,3,3,11,2]\n",
    "threshold = 5\n",
    "\n",
    "def find_spikes(mylist, threshold):\n",
    "    # Write your function here"
   ]
  },
  {
   "cell_type": "code",
   "execution_count": 15,
   "metadata": {},
   "outputs": [],
   "source": [
    "try:\n",
    "    assert find_spikes(mylist, threshold)==[2,5,8]\n",
    "except:\n",
    "    print('Your function does not return the right answer, try again')\n",
    "  "
   ]
  },
  {
   "cell_type": "markdown",
   "metadata": {},
   "source": [
    "### 1e: noise reduction\n",
    "Write a function that takes a list of data and sets everything below a threshold to 0. Make the theshold an optional variable. \n",
    "\n",
    "* Hint 1: You can either change the original list or make a new list to do this task. "
   ]
  },
  {
   "cell_type": "code",
   "execution_count": 23,
   "metadata": {},
   "outputs": [],
   "source": [
    "mylist = [1,2,9,3,2,8,3,3,11,2]\n",
    "threshold = 5\n",
    "def noise_reduction(mylist, threshold):\n",
    "    for i,x in enumerate(mylist):\n",
    "        if x<threshold:\n",
    "            mylist[i] = 0\n",
    "    return mylist\n",
    "    "
   ]
  },
  {
   "cell_type": "code",
   "execution_count": 24,
   "metadata": {},
   "outputs": [],
   "source": [
    "try:\n",
    "    assert noise_reduction(mylist, threshold)==[0,0,9,0,0,8,0,0,11,0]\n",
    "except:\n",
    "    print('Your function does not return the right answer, try again')\n",
    "  "
   ]
  },
  {
   "cell_type": "markdown",
   "metadata": {},
   "source": [
    "### 1f: cumulative distance\n",
    "Write a function to find the cumulative distance of a list of x,y coordinates.\n",
    "\n",
    "* Hint 1: The input to the list is a 2-dimensional list: each item in the list contains another list with 2 items (the x and y coordinate respectively)\n",
    "* Hint 2: Use the Euclidean distance function that's given to calculate the distance between two points in the list. (see if you can figure out how the function works!)"
   ]
  },
  {
   "cell_type": "code",
   "execution_count": 33,
   "metadata": {},
   "outputs": [],
   "source": [
    "coordinates = [[1,2],\n",
    "               [1,3],\n",
    "               [2,3],\n",
    "               [3,4],\n",
    "               [4,4]]\n",
    "\n",
    "import math\n",
    "def eucl_distance(coor1, coor2):\n",
    "    '''Input:\n",
    "    coor1: list containing [x,y] coordinates\n",
    "    coor2: list containing [x,y] coordinates'''\n",
    "    distance = math.sqrt((coor2[0] - coor1[0])**2 + (coor2[1] - coor1[1])**2)\n",
    "    return distance\n",
    "\n",
    "def find_cumul_distance(coordinates):\n",
    "    # Write your function here"
   ]
  }
 ],
 "metadata": {
  "kernelspec": {
   "display_name": "Python 3",
   "language": "python",
   "name": "python3"
  },
  "language_info": {
   "codemirror_mode": {
    "name": "ipython",
    "version": 3
   },
   "file_extension": ".py",
   "mimetype": "text/x-python",
   "name": "python",
   "nbconvert_exporter": "python",
   "pygments_lexer": "ipython3",
   "version": "3.7.1"
  }
 },
 "nbformat": 4,
 "nbformat_minor": 2
}
