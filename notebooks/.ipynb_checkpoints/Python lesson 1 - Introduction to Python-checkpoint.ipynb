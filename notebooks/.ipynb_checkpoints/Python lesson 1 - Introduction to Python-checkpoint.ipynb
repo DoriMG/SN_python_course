{
 "cells": [
  {
   "cell_type": "markdown",
   "metadata": {},
   "source": [
    "## An introduction to Python"
   ]
  },
  {
   "cell_type": "markdown",
   "metadata": {},
   "source": [
    "This is a jupyter notebook. Each individual cell may contain either markdown (normal text) or code. When you execute a cell, it will compile and interpret. Afterwards the variables will stay in the memory"
   ]
  },
  {
   "cell_type": "markdown",
   "metadata": {},
   "source": [
    "### Calculations\n",
    "Python, like most programming languages, can be used as a calculator, and as such can execute simple calculations. Click on the cells below and either press SHIFT+ENTER or 'Run' (at the top) to execute the cell. The notebook will give you the output of the last line, unless you assigned a variable in that line."
   ]
  },
  {
   "cell_type": "code",
   "execution_count": null,
   "metadata": {},
   "outputs": [],
   "source": [
    "4+3"
   ]
  },
  {
   "cell_type": "markdown",
   "metadata": {},
   "source": [
    "Python has all the usual operators (+, -, *, /). You can do a power by using ** (not ^), or a modulo (rest after division) by using %. See if you can predict the outcome of all of the following calculations!"
   ]
  },
  {
   "cell_type": "code",
   "execution_count": null,
   "metadata": {},
   "outputs": [],
   "source": [
    "4-3"
   ]
  },
  {
   "cell_type": "code",
   "execution_count": null,
   "metadata": {},
   "outputs": [],
   "source": [
    "4*3"
   ]
  },
  {
   "cell_type": "code",
   "execution_count": null,
   "metadata": {},
   "outputs": [],
   "source": [
    "4/3"
   ]
  },
  {
   "cell_type": "code",
   "execution_count": null,
   "metadata": {},
   "outputs": [],
   "source": [
    "4**3"
   ]
  },
  {
   "cell_type": "code",
   "execution_count": null,
   "metadata": {},
   "outputs": [],
   "source": [
    "5%3"
   ]
  },
  {
   "cell_type": "markdown",
   "metadata": {},
   "source": [
    "Of course we don't always want to type the number we use for calculations, instead we want to safe them into variables. The variable will automatically get the type of whatever we saved in it (more on types later). After we have assigned the numbers to variables, we can still do the same operations:"
   ]
  },
  {
   "cell_type": "code",
   "execution_count": null,
   "metadata": {},
   "outputs": [],
   "source": [
    "a = 4\n",
    "b = 5.5\n",
    "a*b"
   ]
  },
  {
   "cell_type": "markdown",
   "metadata": {},
   "source": [
    "The variables are saved between cells (unless you rerun the kernel), so we can keep using a and b. We can also save the answer to our calculation into a new variable so we can keep working with it:"
   ]
  },
  {
   "cell_type": "code",
   "execution_count": null,
   "metadata": {},
   "outputs": [],
   "source": [
    "c = a + b\n",
    "c"
   ]
  },
  {
   "cell_type": "code",
   "execution_count": null,
   "metadata": {},
   "outputs": [],
   "source": [
    "c"
   ]
  },
  {
   "cell_type": "markdown",
   "metadata": {},
   "source": [
    "If at any point you want to figure out what the value of your variable is, you can make the program output it using the function print:"
   ]
  },
  {
   "cell_type": "code",
   "execution_count": null,
   "metadata": {},
   "outputs": [],
   "source": [
    "print(c)\n",
    "c"
   ]
  },
  {
   "cell_type": "markdown",
   "metadata": {},
   "source": [
    "### Text operations\n",
    "Python does not just work with numbers, it can also work with text (which we call strings). You can make a string by surrounding it by quotation marks (either single or double). "
   ]
  },
  {
   "cell_type": "code",
   "execution_count": null,
   "metadata": {},
   "outputs": [],
   "source": [
    "d = 'string'\n",
    "print(d)"
   ]
  },
  {
   "cell_type": "markdown",
   "metadata": {},
   "source": [
    "You can also do some of the normal operations on text:"
   ]
  },
  {
   "cell_type": "code",
   "execution_count": null,
   "metadata": {},
   "outputs": [],
   "source": [
    "e = 'my first '+ d + ' Yay'\n",
    "print(e)\n",
    "print(\"x\".join(('my first ', d)))"
   ]
  },
  {
   "cell_type": "code",
   "execution_count": null,
   "metadata": {},
   "outputs": [],
   "source": [
    "f = d*a\n",
    "print(f)\n",
    "print('a'*10)"
   ]
  },
  {
   "cell_type": "markdown",
   "metadata": {},
   "source": [
    "### Compound variables\n",
    "Often you don't just work with 1 number, instead you have a time series or some sort of table. Luckily, Python has a couple of ways to implement that:\n",
    "* lists\n",
    "* tuples\n",
    "* dictionaries"
   ]
  },
  {
   "cell_type": "markdown",
   "metadata": {},
   "source": [
    "#### lists\n",
    "Let's start with lists. You can make a list by typing out a list of numbers (with commas between them) and surrounding them with square brackets. Lists are *mutable*, meaning they can be altered after they are created. "
   ]
  },
  {
   "cell_type": "code",
   "execution_count": null,
   "metadata": {},
   "outputs": [],
   "source": [
    "mylist = [1,2,3,4]\n",
    "print(mylist)"
   ]
  },
  {
   "cell_type": "markdown",
   "metadata": {},
   "source": [
    "You can add an item to a list by using the append method. This changes your variable, which means that if you execute the cell below multiple times, you will add multiple 5s to the list. "
   ]
  },
  {
   "cell_type": "code",
   "execution_count": null,
   "metadata": {},
   "outputs": [],
   "source": [
    "mylist.append(5)\n",
    "print(mylist)"
   ]
  },
  {
   "cell_type": "markdown",
   "metadata": {},
   "source": [
    "A list can contain variables of multiple types (e.g. text and numbers interleaved)"
   ]
  },
  {
   "cell_type": "code",
   "execution_count": null,
   "metadata": {},
   "outputs": [],
   "source": [
    "mylist.append('six')\n",
    "print(mylist)\n",
    "mylist.append([1,2,3])\n",
    "print(mylist)"
   ]
  },
  {
   "cell_type": "markdown",
   "metadata": {},
   "source": [
    "And important part of Python is *indexing*, which is selecting subsets from a list. We will go into more advance indexing later on, let's start with some of the basics. You can index by adding square brackets to the end of your variable and writing the indices of the items you want. \n",
    "*NB: Python indexing starts at 0, and is non-inclusive (so [0:2] means the first and second number).*"
   ]
  },
  {
   "cell_type": "code",
   "execution_count": null,
   "metadata": {},
   "outputs": [],
   "source": [
    "print(mylist[0:2])"
   ]
  },
  {
   "cell_type": "markdown",
   "metadata": {},
   "source": [
    "You can also index from the end. -1 is the index of the last item, and you can go back from there:"
   ]
  },
  {
   "cell_type": "code",
   "execution_count": null,
   "metadata": {},
   "outputs": [],
   "source": [
    "print(mylist[0:-3])"
   ]
  },
  {
   "cell_type": "code",
   "execution_count": null,
   "metadata": {},
   "outputs": [],
   "source": [
    "print(mylist[-3:-1])"
   ]
  },
  {
   "cell_type": "markdown",
   "metadata": {},
   "source": [
    "If you want to get the elements to the end, you can just leave the space after the colon empty:"
   ]
  },
  {
   "cell_type": "code",
   "execution_count": null,
   "metadata": {},
   "outputs": [],
   "source": [
    "print(mylist[-1][:-1])"
   ]
  },
  {
   "cell_type": "markdown",
   "metadata": {},
   "source": [
    "#### tuples\n",
    "\n",
    "Tuples are very similar to lists, but differ in that they're immutable. This means that you can't add items after you've created it. This may come in handy in some cases. It also means that tuples are much faster than lists, this has to do with the memory assignment and indexing. You make tuples in the same way you make lists, but rather than square brackets, you put parenthesis:"
   ]
  },
  {
   "cell_type": "code",
   "execution_count": null,
   "metadata": {},
   "outputs": [],
   "source": [
    "mytuple = (1, 2, 3, 4, 'five')\n",
    "print(mytuple)"
   ]
  },
  {
   "cell_type": "markdown",
   "metadata": {},
   "source": [
    "You can't add items like you could with lists:"
   ]
  },
  {
   "cell_type": "code",
   "execution_count": null,
   "metadata": {},
   "outputs": [],
   "source": [
    "mytuple.append(6)"
   ]
  },
  {
   "cell_type": "code",
   "execution_count": null,
   "metadata": {},
   "outputs": [],
   "source": [
    "mytuple = (1, 2, 3, 4, 'five',6)\n",
    "print(mytuple)"
   ]
  },
  {
   "cell_type": "markdown",
   "metadata": {},
   "source": [
    "The indexing for tuples works the same as it does for lists:"
   ]
  },
  {
   "cell_type": "code",
   "execution_count": null,
   "metadata": {},
   "outputs": [],
   "source": [
    "print(mytuple[0:2])\n",
    "print(mytuple[-3:-1])\n",
    "print(mytuple[3:])"
   ]
  },
  {
   "cell_type": "markdown",
   "metadata": {},
   "source": [
    "#### dictionaries\n",
    "Dictionaries are collections of items that are unordered, so unlike in lists, the items are not mainly indexed by their location, but rather by a *key*. Each *key* has a *value* attached to it. You can great a dictionary by writing a key-value pair (or multiple) between curly brackets:"
   ]
  },
  {
   "cell_type": "code",
   "execution_count": null,
   "metadata": {},
   "outputs": [],
   "source": [
    "mydict = {'one': a,\n",
    "         'two': 'twee'}\n",
    "print(mydict)"
   ]
  },
  {
   "cell_type": "markdown",
   "metadata": {},
   "source": [
    "In the dictionary above the keys are 'one' and 'two', while the values associated to those keys are 1 and 'twee'. You can access and given value by putting the key in square brackets (same is with indexing):"
   ]
  },
  {
   "cell_type": "code",
   "execution_count": null,
   "metadata": {},
   "outputs": [],
   "source": [
    "print(mydict['one'])"
   ]
  },
  {
   "cell_type": "markdown",
   "metadata": {},
   "source": [
    "If you're unsure about the keys that are present in your dictionary, you can use a built-in function to extract them. The same can be done for the values:"
   ]
  },
  {
   "cell_type": "code",
   "execution_count": null,
   "metadata": {},
   "outputs": [],
   "source": [
    "print(mydict.keys())\n",
    "print(mydict.values())"
   ]
  },
  {
   "cell_type": "markdown",
   "metadata": {},
   "source": [
    "A dictionary is mutable, which means we can change and add items. We again do indexing by using the keys:"
   ]
  },
  {
   "cell_type": "code",
   "execution_count": null,
   "metadata": {},
   "outputs": [],
   "source": [
    "mydict['one'] = 'eins'\n",
    "print(mydict)"
   ]
  },
  {
   "cell_type": "code",
   "execution_count": null,
   "metadata": {},
   "outputs": [],
   "source": [
    "mydict['three'] = 3\n",
    "print(mydict)"
   ]
  },
  {
   "cell_type": "markdown",
   "metadata": {},
   "source": [
    "You can check which keys are already in the dictionary by using the keyword *in*"
   ]
  },
  {
   "cell_type": "code",
   "execution_count": null,
   "metadata": {},
   "outputs": [],
   "source": [
    "print('three' in mydict)\n",
    "print(3 in list(mydict.values()))"
   ]
  },
  {
   "cell_type": "markdown",
   "metadata": {},
   "source": [
    "### Conditional functions\n",
    "\n",
    "One of the most important functions of any programming language is the ability to compare things, be that numbers, text or any other object. You can do this with an *if-statement*, which consists of the word 'if' followed by a boolean statement and finally a colon. To indicate the lines of codes should be executed only when the if-statement is true, you have to indent them. The best way to this is with 4 spaces. Most text editors will automatically change a tab into 4 spaces."
   ]
  },
  {
   "cell_type": "code",
   "execution_count": null,
   "metadata": {},
   "outputs": [],
   "source": [
    "a = 4\n",
    "if a > b:\n",
    "    print('a is bigger than b')\n",
    "print(b)"
   ]
  },
  {
   "cell_type": "markdown",
   "metadata": {},
   "source": [
    "You can also add what you want the program to do when your conditional (which is 'a>b' in the example above) is not true:"
   ]
  },
  {
   "cell_type": "code",
   "execution_count": null,
   "metadata": {},
   "outputs": [],
   "source": [
    "a = 1\n",
    "if a > b:\n",
    "    print('a is bigger than b')\n",
    "else:\n",
    "    print('a is smaller than b')\n",
    "print(b)"
   ]
  },
  {
   "cell_type": "markdown",
   "metadata": {},
   "source": [
    "Lastly, you can compare more than 1 thing by adding elifs:"
   ]
  },
  {
   "cell_type": "code",
   "execution_count": null,
   "metadata": {},
   "outputs": [],
   "source": [
    "a = 10\n",
    "if a > b:\n",
    "    print('a is bigger than b')\n",
    "    if a > 8:\n",
    "        print(a*2)\n",
    "elif a >= b:\n",
    "    print('a is the same as b')\n",
    "else:\n",
    "    print('a is smaller than b')"
   ]
  },
  {
   "cell_type": "markdown",
   "metadata": {},
   "source": [
    "### for-loops\n",
    "\n",
    "For-loops are used to go through each item in a iterable object (meaning and object you can loop through, such as a list, a tuple or a dictionary) and perform some action. You can also use it for counting, e.g. if you want to repeat an operation n times. The for-loop usually has the structure 'for /item/ in /list/:'. Again, don't forget the identation of the code inside the loop"
   ]
  },
  {
   "cell_type": "code",
   "execution_count": null,
   "metadata": {},
   "outputs": [],
   "source": [
    "print(mylist)"
   ]
  },
  {
   "cell_type": "code",
   "execution_count": null,
   "metadata": {},
   "outputs": [],
   "source": [
    "number = 3\n",
    "newlist = []\n",
    "for number in mylist:\n",
    "    print(number*2)\n",
    "    newlist.append(number*2)\n",
    "    \n",
    "print(newlist)"
   ]
  },
  {
   "cell_type": "code",
   "execution_count": null,
   "metadata": {},
   "outputs": [],
   "source": [
    "n_repeats = 10\n",
    "for el in range(n_repeats):\n",
    "    print(el**2)\n",
    "\n"
   ]
  },
  {
   "cell_type": "markdown",
   "metadata": {},
   "source": [
    "#### Enumerate\n",
    "\n",
    "Enumerate is a great trick that you can use in for-loops. Normally if you write something like 'for a in mylist', a will be the element in the list. However, sometimes you also want to know the position in the list that element has. You can use 'range' for this (like above), but enumerate is a better way of doing this:"
   ]
  },
  {
   "cell_type": "code",
   "execution_count": null,
   "metadata": {},
   "outputs": [],
   "source": [
    "mylist = [1,4,8,12]\n",
    "for i,el in enumerate(mylist):\n",
    "    print('index: ', i)\n",
    "    print('element: ', el)"
   ]
  },
  {
   "cell_type": "markdown",
   "metadata": {},
   "source": [
    "You can see in the example above that i is just a counter from 0 to 3, it is the index of the element. el contains the actual elements in the list. The equivalent of this would be:"
   ]
  },
  {
   "cell_type": "code",
   "execution_count": null,
   "metadata": {},
   "outputs": [],
   "source": [
    "for i in range(len(mylist)):\n",
    "    print('index: ', i)\n",
    "    print('element: ', mylist[i])"
   ]
  },
  {
   "cell_type": "markdown",
   "metadata": {},
   "source": [
    "### Functions\n",
    "When you are writing code, you usually want to write an analysis that you can perform on multiple datasets. You might also have smaller pieces of code that you use in more than one place in your code. You could of course just copy-paste, but there is a better way of handling this: functions. \n",
    "\n",
    "A function is a separate piece of code that can take input variables (arguments) and may return one or more output variables. Functions are not only handy for the organisation of your code, they also reduce the memory used by your code. \n",
    "\n",
    "When writing a function, you want to give it a function name and input variables it need (if it does). You also usually end your function with 'return' followed by the answer that is calculated in the function. See for example the following function that tests whether a number is odd:"
   ]
  },
  {
   "cell_type": "code",
   "execution_count": null,
   "metadata": {},
   "outputs": [],
   "source": [
    "def is_odd(number):\n",
    "    answer = number % 2 == 1\n",
    "    return answer"
   ]
  },
  {
   "cell_type": "code",
   "execution_count": null,
   "metadata": {},
   "outputs": [],
   "source": [
    "odd_numbers = []\n",
    "if is_odd(5):\n",
    "    odd_numbers.append(5)\n",
    "odd_numbers"
   ]
  },
  {
   "cell_type": "markdown",
   "metadata": {},
   "source": [
    "Let's break this down.\n",
    "* To define a function you have to always start with the keyword 'def'\n",
    "* Next, you write the name of the function.\n",
    "* The name of the function is always followed by parentheses, you can put the input variable(s) (here 'number') between the parentheses. If you have more than 1 input variable, put a comma between them.\n",
    "* The body of the function is indented (like with the if-statements and for-loops)\n",
    "* We end the function with the 'return' keyword and the variable it should return behind it. Again, this could be more than one.\n",
    "\n",
    "Now we can test our function:"
   ]
  },
  {
   "cell_type": "code",
   "execution_count": null,
   "metadata": {},
   "outputs": [],
   "source": [
    "print(is_odd(5))\n",
    "print(is_odd(10))"
   ]
  },
  {
   "cell_type": "markdown",
   "metadata": {},
   "source": [
    "Let's make something a little bit harder. I now want to make a function to see if a certain number a is divisible by a number b. However, the number b will be optional, and if it's not given, it will take a value of 2. Not only should it return whether it is possible, it should also return the rest of the division. So in this case, we need 2 input and 2 output variables. "
   ]
  },
  {
   "cell_type": "code",
   "execution_count": null,
   "metadata": {},
   "outputs": [],
   "source": [
    "def is_divisable(a, b=2):\n",
    "    mod = a % b\n",
    "    answer = mod == 0\n",
    "    return answer, mod"
   ]
  },
  {
   "cell_type": "code",
   "execution_count": null,
   "metadata": {},
   "outputs": [],
   "source": [
    "print(is_divisable(5))\n",
    "print(is_divisable(10,5))"
   ]
  },
  {
   "cell_type": "code",
   "execution_count": null,
   "metadata": {},
   "outputs": [],
   "source": [
    "answer = is_divisable(5) \n",
    "answer[1]"
   ]
  }
 ],
 "metadata": {
  "kernelspec": {
   "display_name": "Python 3",
   "language": "python",
   "name": "python3"
  },
  "language_info": {
   "codemirror_mode": {
    "name": "ipython",
    "version": 3
   },
   "file_extension": ".py",
   "mimetype": "text/x-python",
   "name": "python",
   "nbconvert_exporter": "python",
   "pygments_lexer": "ipython3",
   "version": "3.7.1"
  }
 },
 "nbformat": 4,
 "nbformat_minor": 2
}
