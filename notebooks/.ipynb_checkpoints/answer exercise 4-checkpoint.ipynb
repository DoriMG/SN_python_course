{
 "cells": [
  {
   "cell_type": "code",
   "execution_count": 3,
   "metadata": {},
   "outputs": [
    {
     "ename": "FileNotFoundError",
     "evalue": "[Errno 2] No such file or directory: 'C:\\\\locomotion.mat'",
     "output_type": "error",
     "traceback": [
      "\u001b[1;31m---------------------------------------------------------------------------\u001b[0m",
      "\u001b[1;31mFileNotFoundError\u001b[0m                         Traceback (most recent call last)",
      "\u001b[1;32m~\\Anaconda3New\\lib\\site-packages\\scipy\\io\\matlab\\mio.py\u001b[0m in \u001b[0;36m_open_file\u001b[1;34m(file_like, appendmat)\u001b[0m\n\u001b[0;32m     32\u001b[0m     \u001b[1;32mtry\u001b[0m\u001b[1;33m:\u001b[0m\u001b[1;33m\u001b[0m\u001b[1;33m\u001b[0m\u001b[0m\n\u001b[1;32m---> 33\u001b[1;33m         \u001b[1;32mreturn\u001b[0m \u001b[0mopen\u001b[0m\u001b[1;33m(\u001b[0m\u001b[0mfile_like\u001b[0m\u001b[1;33m,\u001b[0m \u001b[1;34m'rb'\u001b[0m\u001b[1;33m)\u001b[0m\u001b[1;33m,\u001b[0m \u001b[1;32mTrue\u001b[0m\u001b[1;33m\u001b[0m\u001b[1;33m\u001b[0m\u001b[0m\n\u001b[0m\u001b[0;32m     34\u001b[0m     \u001b[1;32mexcept\u001b[0m \u001b[0mIOError\u001b[0m\u001b[1;33m:\u001b[0m\u001b[1;33m\u001b[0m\u001b[1;33m\u001b[0m\u001b[0m\n",
      "\u001b[1;31mFileNotFoundError\u001b[0m: [Errno 2] No such file or directory: 'C:\\\\locomotion.mat'",
      "\nDuring handling of the above exception, another exception occurred:\n",
      "\u001b[1;31mFileNotFoundError\u001b[0m                         Traceback (most recent call last)",
      "\u001b[1;32m<ipython-input-3-600cce81fed9>\u001b[0m in \u001b[0;36m<module>\u001b[1;34m\u001b[0m\n\u001b[0;32m     13\u001b[0m \u001b[1;33m\u001b[0m\u001b[0m\n\u001b[0;32m     14\u001b[0m \u001b[1;33m\u001b[0m\u001b[0m\n\u001b[1;32m---> 15\u001b[1;33m \u001b[0mlocomotion\u001b[0m \u001b[1;33m=\u001b[0m \u001b[0mscipy\u001b[0m\u001b[1;33m.\u001b[0m\u001b[0mio\u001b[0m\u001b[1;33m.\u001b[0m\u001b[0mloadmat\u001b[0m\u001b[1;33m(\u001b[0m\u001b[0mos\u001b[0m\u001b[1;33m.\u001b[0m\u001b[0mpath\u001b[0m\u001b[1;33m.\u001b[0m\u001b[0mjoin\u001b[0m\u001b[1;33m(\u001b[0m\u001b[0mfolder\u001b[0m\u001b[1;33m,\u001b[0m\u001b[1;34m'\\\\'\u001b[0m\u001b[1;33m,\u001b[0m\u001b[1;34m'locomotion.mat'\u001b[0m\u001b[1;33m)\u001b[0m\u001b[1;33m)\u001b[0m\u001b[1;33m[\u001b[0m\u001b[1;34m'loco'\u001b[0m\u001b[1;33m]\u001b[0m\u001b[1;33m\u001b[0m\u001b[1;33m\u001b[0m\u001b[0m\n\u001b[0m\u001b[0;32m     16\u001b[0m \u001b[0mvel\u001b[0m \u001b[1;33m=\u001b[0m \u001b[0mdiff\u001b[0m\u001b[1;33m(\u001b[0m\u001b[0mlocomotion\u001b[0m\u001b[1;33m,\u001b[0m \u001b[0maxis\u001b[0m\u001b[1;33m=\u001b[0m\u001b[1;36m0\u001b[0m\u001b[1;33m)\u001b[0m\u001b[1;33m\u001b[0m\u001b[1;33m\u001b[0m\u001b[0m\n\u001b[0;32m     17\u001b[0m \u001b[0mvel\u001b[0m \u001b[1;33m=\u001b[0m \u001b[0minsert\u001b[0m\u001b[1;33m(\u001b[0m\u001b[0mvel\u001b[0m\u001b[1;33m,\u001b[0m \u001b[1;36m0\u001b[0m\u001b[1;33m,\u001b[0m \u001b[1;36m0\u001b[0m\u001b[1;33m)\u001b[0m\u001b[1;33m\u001b[0m\u001b[1;33m\u001b[0m\u001b[0m\n",
      "\u001b[1;32m~\\Anaconda3New\\lib\\site-packages\\scipy\\io\\matlab\\mio.py\u001b[0m in \u001b[0;36mloadmat\u001b[1;34m(file_name, mdict, appendmat, **kwargs)\u001b[0m\n\u001b[0;32m    139\u001b[0m     \"\"\"\n\u001b[0;32m    140\u001b[0m     \u001b[0mvariable_names\u001b[0m \u001b[1;33m=\u001b[0m \u001b[0mkwargs\u001b[0m\u001b[1;33m.\u001b[0m\u001b[0mpop\u001b[0m\u001b[1;33m(\u001b[0m\u001b[1;34m'variable_names'\u001b[0m\u001b[1;33m,\u001b[0m \u001b[1;32mNone\u001b[0m\u001b[1;33m)\u001b[0m\u001b[1;33m\u001b[0m\u001b[1;33m\u001b[0m\u001b[0m\n\u001b[1;32m--> 141\u001b[1;33m     \u001b[0mMR\u001b[0m\u001b[1;33m,\u001b[0m \u001b[0mfile_opened\u001b[0m \u001b[1;33m=\u001b[0m \u001b[0mmat_reader_factory\u001b[0m\u001b[1;33m(\u001b[0m\u001b[0mfile_name\u001b[0m\u001b[1;33m,\u001b[0m \u001b[0mappendmat\u001b[0m\u001b[1;33m,\u001b[0m \u001b[1;33m**\u001b[0m\u001b[0mkwargs\u001b[0m\u001b[1;33m)\u001b[0m\u001b[1;33m\u001b[0m\u001b[1;33m\u001b[0m\u001b[0m\n\u001b[0m\u001b[0;32m    142\u001b[0m     \u001b[0mmatfile_dict\u001b[0m \u001b[1;33m=\u001b[0m \u001b[0mMR\u001b[0m\u001b[1;33m.\u001b[0m\u001b[0mget_variables\u001b[0m\u001b[1;33m(\u001b[0m\u001b[0mvariable_names\u001b[0m\u001b[1;33m)\u001b[0m\u001b[1;33m\u001b[0m\u001b[1;33m\u001b[0m\u001b[0m\n\u001b[0;32m    143\u001b[0m     \u001b[1;32mif\u001b[0m \u001b[0mmdict\u001b[0m \u001b[1;32mis\u001b[0m \u001b[1;32mnot\u001b[0m \u001b[1;32mNone\u001b[0m\u001b[1;33m:\u001b[0m\u001b[1;33m\u001b[0m\u001b[1;33m\u001b[0m\u001b[0m\n",
      "\u001b[1;32m~\\Anaconda3New\\lib\\site-packages\\scipy\\io\\matlab\\mio.py\u001b[0m in \u001b[0;36mmat_reader_factory\u001b[1;34m(file_name, appendmat, **kwargs)\u001b[0m\n\u001b[0;32m     62\u001b[0m \u001b[1;33m\u001b[0m\u001b[0m\n\u001b[0;32m     63\u001b[0m     \"\"\"\n\u001b[1;32m---> 64\u001b[1;33m     \u001b[0mbyte_stream\u001b[0m\u001b[1;33m,\u001b[0m \u001b[0mfile_opened\u001b[0m \u001b[1;33m=\u001b[0m \u001b[0m_open_file\u001b[0m\u001b[1;33m(\u001b[0m\u001b[0mfile_name\u001b[0m\u001b[1;33m,\u001b[0m \u001b[0mappendmat\u001b[0m\u001b[1;33m)\u001b[0m\u001b[1;33m\u001b[0m\u001b[1;33m\u001b[0m\u001b[0m\n\u001b[0m\u001b[0;32m     65\u001b[0m     \u001b[0mmjv\u001b[0m\u001b[1;33m,\u001b[0m \u001b[0mmnv\u001b[0m \u001b[1;33m=\u001b[0m \u001b[0mget_matfile_version\u001b[0m\u001b[1;33m(\u001b[0m\u001b[0mbyte_stream\u001b[0m\u001b[1;33m)\u001b[0m\u001b[1;33m\u001b[0m\u001b[1;33m\u001b[0m\u001b[0m\n\u001b[0;32m     66\u001b[0m     \u001b[1;32mif\u001b[0m \u001b[0mmjv\u001b[0m \u001b[1;33m==\u001b[0m \u001b[1;36m0\u001b[0m\u001b[1;33m:\u001b[0m\u001b[1;33m\u001b[0m\u001b[1;33m\u001b[0m\u001b[0m\n",
      "\u001b[1;32m~\\Anaconda3New\\lib\\site-packages\\scipy\\io\\matlab\\mio.py\u001b[0m in \u001b[0;36m_open_file\u001b[1;34m(file_like, appendmat)\u001b[0m\n\u001b[0;32m     37\u001b[0m             \u001b[1;32mif\u001b[0m \u001b[0mappendmat\u001b[0m \u001b[1;32mand\u001b[0m \u001b[1;32mnot\u001b[0m \u001b[0mfile_like\u001b[0m\u001b[1;33m.\u001b[0m\u001b[0mendswith\u001b[0m\u001b[1;33m(\u001b[0m\u001b[1;34m'.mat'\u001b[0m\u001b[1;33m)\u001b[0m\u001b[1;33m:\u001b[0m\u001b[1;33m\u001b[0m\u001b[1;33m\u001b[0m\u001b[0m\n\u001b[0;32m     38\u001b[0m                 \u001b[0mfile_like\u001b[0m \u001b[1;33m+=\u001b[0m \u001b[1;34m'.mat'\u001b[0m\u001b[1;33m\u001b[0m\u001b[1;33m\u001b[0m\u001b[0m\n\u001b[1;32m---> 39\u001b[1;33m             \u001b[1;32mreturn\u001b[0m \u001b[0mopen\u001b[0m\u001b[1;33m(\u001b[0m\u001b[0mfile_like\u001b[0m\u001b[1;33m,\u001b[0m \u001b[1;34m'rb'\u001b[0m\u001b[1;33m)\u001b[0m\u001b[1;33m,\u001b[0m \u001b[1;32mTrue\u001b[0m\u001b[1;33m\u001b[0m\u001b[1;33m\u001b[0m\u001b[0m\n\u001b[0m\u001b[0;32m     40\u001b[0m         \u001b[1;32melse\u001b[0m\u001b[1;33m:\u001b[0m\u001b[1;33m\u001b[0m\u001b[1;33m\u001b[0m\u001b[0m\n\u001b[0;32m     41\u001b[0m             \u001b[1;32mraise\u001b[0m \u001b[0mIOError\u001b[0m\u001b[1;33m(\u001b[0m\u001b[1;34m'Reader needs file name or open file-like object'\u001b[0m\u001b[1;33m)\u001b[0m\u001b[1;33m\u001b[0m\u001b[1;33m\u001b[0m\u001b[0m\n",
      "\u001b[1;31mFileNotFoundError\u001b[0m: [Errno 2] No such file or directory: 'C:\\\\locomotion.mat'"
     ]
    }
   ],
   "source": [
    "from sklearn.decomposition import NMF\n",
    "from numpy import *\n",
    "import scipy.io\n",
    "import matplotlib.pyplot as plt\n",
    "\n",
    "import os\n",
    "\n",
    "folder = \"C:\\\\Users\\\\Dori\\\\Dropbox (Brain Energy Lab)\\\\Everything\\\\dori\\\\data\\\\BehaviourOnWheel\\\\Sawk\\\\20190404\"\n",
    "#folder = \"C:\\\\Users\\\\Dori\\\\Dropbox (Brain Energy Lab)\\\\Everything\\\\dori\\\\data\\\\BehaviourOnWheel\\\\Sawk\\\\20190304\"\n",
    "#folder = \"C:\\\\Users\\\\Dori\\\\Documents\\\\OIST\\\\20190218_09_38_05_R1spont\\\\cellsort\\\\\"\n",
    "#traces = scipy.io.loadmat(os.path.join(folder,'suite2p\\\\spikes.mat'))['traces']\n",
    "traces = scipy.io.loadmat(\"\".join((folder,'\\\\', 'suite2p\\\\traces.mat')))['traces']\n",
    "#traces = traces-traces.min(axis=1,keepdims=True)\n",
    "X = traces\n",
    "X[X<0] = 0\n",
    "traces.shape\n",
    "\n",
    "\n",
    "Locomotion = scipy.io.loadmat(\"\".join((folder,'\\\\','locomotion.mat')))['loco']\n",
    "vel = np.diff(Locomotion, axis=0)\n",
    "vel = np.insert(vel, 0, 0)\n",
    "vel[vel<-0.2/7.51] = 0\n",
    "vel[vel>0.5/7.51] = 0\n",
    "\n",
    "\n",
    "model = NMF(n_components=3, init='random', random_state=0)\n",
    "W = model.fit_transform(X)\n",
    "H = model.components_\n",
    "\n",
    "plt.figure()\n",
    "plt.plot(H[0,:].T,)#color=colors[i] )\n",
    "plt.xlabel('Frames')\n",
    "plt.ylabel('Component 1 weight')\n",
    "\n",
    "plt.figure()\n",
    "plt.plot(H[1,:].T,)#color=colors[i] )\n",
    "plt.xlabel('Frames')\n",
    "plt.ylabel('Component 1 weight')\n",
    "\n",
    "plt.figure()\n",
    "plt.plot(H[2,:].T,)#color=colors[i] )\n",
    "plt.xlabel('Frames')\n",
    "plt.ylabel('Component 1 weight')\n"
   ]
  },
  {
   "cell_type": "markdown",
   "metadata": {},
   "source": [
    "Some of the things wrong with the things wrong with the code above and how to fix it:\n",
    "* All imports should be at the top of the file.\n",
    "* Don't import *, replace with import numpy as np.\n",
    "* Needs to be put into a function, there's no reason to save all the cell traces if you run this for multiple folders, it will take up too much memory\n",
    "* Variable names could be more descriptive. What does X mean? \n",
    "* Variable names generally shouldn't be capitalized (Locomotion -> locomotion)\n",
    "* Don't hardcode folders or filenames. One way to change this is to have folder as input to the function. Even better is to get the user inputting the folder using a dialog window, such as askdirectory from the Tkinter package.\n",
    "* The code is a bit erratic in terms of whitespaces, only use whitespace when there is a separate paragraph\n",
    "* Random comments that are not very useful, only use comments when they say something about the code!\n",
    "* The number 7.51 and both of the thresholds (-0.2 and 0.5) are hardcoded. Have these as optional inputs, or calculate the thresholds from the data. The number of components is also hardcoded\n",
    "* Duplicate code for plotting, just use a forloop"
   ]
  },
  {
   "cell_type": "code",
   "execution_count": 6,
   "metadata": {},
   "outputs": [],
   "source": [
    "def calculate_nmf(folder, trace_file, loco_file, fps=7.51, lower_thresh = -0.2, upper_thresh = 0.5, n_components=3):\n",
    "    ''' Calculates the non-negative matrix factorization for a dataset that is in folder\n",
    "    \n",
    "    Keyword arguments:\n",
    "    folder - folder path containing locomotion and data file\n",
    "    trace_file - path to data matrix, relative to folder\n",
    "    loco_file - path to locomotion data, relative to folder\n",
    "    fps - frames per second of locomotion recording (default = 7.51)\n",
    "    lower_thresh - Lower speed cutoff (default = -0.2)\n",
    "    upper_thresh - Upper speed cutoff (default = 0.5)\n",
    "    n_components - The number of components to calculate in the non-negative matrix factorization (default = 3)\n",
    "    \n",
    "    Output arguments\n",
    "    W - The weight of each cell in the different components from the NMF\n",
    "    H - The time series for each components from the NMF\n",
    "    '''\n",
    "    cell_fluorescence = scipy.io.loadmat(os.path.join(folder,trace_file))['traces']\n",
    "    cell_fluorescence[cell_fluorescence<0] = 0\n",
    "    locomotion = scipy.io.loadmat(os.path.join(folder,'\\\\','locomotion.mat'))['loco']\n",
    "    \n",
    "    velocity = np.diff(locomotion, axis=0)\n",
    "    velocity = np.insert(velocity, 0, 0)\n",
    "    velocity[velocity<lower_thresh/fps] = 0\n",
    "    velocity[velocity>upper_thresh/fps] = 0\n",
    "\n",
    "    model = NMF(n_components=3, init='random', random_state=0)\n",
    "    W = model.fit_transform(cell_fluorescence)\n",
    "    H = model.components_\n",
    "    \n",
    "    for i,h in enumerate(H):\n",
    "        plt.figure()\n",
    "        plt.plot(h.T,)\n",
    "        plt.xlabel('Frames')\n",
    "        plt.ylabel(f'Component {i} weight')\n",
    "        plt.show()\n",
    "        \n",
    "    return W, H\n",
    "   \n",
    "    "
   ]
  }
 ],
 "metadata": {
  "kernelspec": {
   "display_name": "Python 3",
   "language": "python",
   "name": "python3"
  },
  "language_info": {
   "codemirror_mode": {
    "name": "ipython",
    "version": 3
   },
   "file_extension": ".py",
   "mimetype": "text/x-python",
   "name": "python",
   "nbconvert_exporter": "python",
   "pygments_lexer": "ipython3",
   "version": "3.7.1"
  }
 },
 "nbformat": 4,
 "nbformat_minor": 2
}
