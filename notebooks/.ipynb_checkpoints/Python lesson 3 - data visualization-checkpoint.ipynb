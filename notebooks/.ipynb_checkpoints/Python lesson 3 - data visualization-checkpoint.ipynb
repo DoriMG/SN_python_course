{
 "cells": [
  {
   "cell_type": "markdown",
   "metadata": {},
   "source": [
    "## Part 3: Data visualization in Python "
   ]
  },
  {
   "cell_type": "markdown",
   "metadata": {},
   "source": [
    "The main package for data visualization is matplotlib. Within this package the module pyplot provides most of the plots you will need for visualizing your data. Several other visualization packages exist:\n",
    "* seaborn - this is builds on matplotlib and provides some more complicated plots\n",
    "* ggplot2 - this uses the same syntax as ggplot in R, so might be useful is you're more familiar with that language.\n",
    "* plotly - interactive plotting (used if you make plots for websites)\n",
    "\n",
    "Pandas also has matplotlib inbuilt, so you can directly plot from pandas as well. The syntax is often very similar to the syntax used when plotting from pyplot.\n",
    "\n",
    "To start off we have to import matplotlib.pyplot. Often this is import as plt, which means that from now you can just use the abbreviation plt. "
   ]
  },
  {
   "cell_type": "code",
   "execution_count": null,
   "metadata": {},
   "outputs": [],
   "source": [
    "import matplotlib.pyplot as plt"
   ]
  },
  {
   "cell_type": "markdown",
   "metadata": {},
   "source": [
    "In jupyter notebook we have to do some special setup for matplotlib. We use *magic functions* for this. The magic function always begins with a % and in this case 'matplotlib'. We've got the options:\n",
    "* %matplotlib inline - create a static plot under the cell that we're executing\n",
    "* %matplotlib notebook - create an interactive, meaning we can resize and zoom.\n",
    "\n",
    "For now we'll use, but we can change that at any time if we like (you will just have to rerun cells after you called the new magic function). "
   ]
  },
  {
   "cell_type": "code",
   "execution_count": null,
   "metadata": {},
   "outputs": [],
   "source": [
    "%matplotlib inline"
   ]
  },
  {
   "cell_type": "markdown",
   "metadata": {},
   "source": [
    "#### Line plots\n",
    "Let's start with the easiest plot, a line plot. We are just going to plot using all the default settings."
   ]
  },
  {
   "cell_type": "code",
   "execution_count": null,
   "metadata": {},
   "outputs": [],
   "source": [
    "plt.plot([1,2,3,4])"
   ]
  },
  {
   "cell_type": "markdown",
   "metadata": {},
   "source": [
    "A couple of things to note about this plot:\n",
    "* The function automatically filled in the x points as [0,1,2,3]. In true Python fashion this starts at 0. If you want it to start at 1, you need to pass your own x-coordinates (plt.plot(x, y)). \n",
    "* The plot function will automatically draw a straight line between your points. \n",
    "* The plot won't have any axis labels, you have to add them separately if you want them.\n",
    "\n",
    "Let's make this plot a bit nicer. We first want to add axes labels:"
   ]
  },
  {
   "cell_type": "code",
   "execution_count": null,
   "metadata": {},
   "outputs": [],
   "source": [
    "plt.plot([1,2,3,4])\n",
    "plt.xlabel('Time (s)')\n",
    "plt.ylabel('Size (cm)')"
   ]
  },
  {
   "cell_type": "markdown",
   "metadata": {},
   "source": [
    "We can also change the axis dimensions:"
   ]
  },
  {
   "cell_type": "code",
   "execution_count": null,
   "metadata": {},
   "outputs": [],
   "source": [
    "plt.plot([1,2,3,4])\n",
    "plt.xlabel('Time (s)')\n",
    "plt.ylabel('Size (cm)')\n",
    "plt.xlim( (0, 4) )\n",
    "plt.ylim((0, 10))"
   ]
  },
  {
   "cell_type": "markdown",
   "metadata": {},
   "source": [
    "Lastly, we can change what the line itself looks like. It defaults to a blue line with no markers. However, we can tell it to just have markers, change the colour, change the width, make it dashed and many more options. You can use a shorthand, for example, 'go' will make it a green with o-shaped markers. "
   ]
  },
  {
   "cell_type": "code",
   "execution_count": null,
   "metadata": {},
   "outputs": [],
   "source": [
    "plt.plot([1,2,3,4], 'k.')\n",
    "plt.xlabel('Time (s)')\n",
    "plt.ylabel('Size (cm)')\n"
   ]
  },
  {
   "cell_type": "markdown",
   "metadata": {},
   "source": [
    "However, we can also tell it more explicitely what we want exactly, for example"
   ]
  },
  {
   "cell_type": "code",
   "execution_count": null,
   "metadata": {},
   "outputs": [],
   "source": [
    "plt.plot([1,2,3,4], color='red', marker='s', linestyle='dashed',\n",
    "         linewidth=5, markersize=10)\n",
    "plt.xlabel('Time (s)')\n",
    "plt.ylabel('Size (cm)')\n"
   ]
  },
  {
   "cell_type": "markdown",
   "metadata": {},
   "source": [
    "#### Saving a figure\n",
    "\n",
    "You can easily save a figure by using the function savefig (https://matplotlib.org/3.1.1/api/_as_gen/matplotlib.pyplot.savefig.html). You can pass this function the dpi (dots per inch), which is the resolution of the image. "
   ]
  },
  {
   "cell_type": "code",
   "execution_count": null,
   "metadata": {},
   "outputs": [],
   "source": [
    "plt.plot([1,2,3,4], color='black', marker='x', linestyle='dashed',\n",
    "...      linewidth=2, markersize=10)\n",
    "plt.xlabel('Time (s)')\n",
    "plt.ylabel('Size (cm)')\n",
    "\n",
    "plt.savefig('example_plot.pdf', dpi=500)"
   ]
  },
  {
   "cell_type": "code",
   "execution_count": null,
   "metadata": {},
   "outputs": [],
   "source": [
    "plt.savefig?"
   ]
  },
  {
   "cell_type": "markdown",
   "metadata": {},
   "source": [
    "### Multiple lineplots\n",
    "You can also plot multiple datasets in one plot. This can be done in three different ways. If they are in separate lists or arrays, you can give each of them as inputs into your plot function.\n",
    "You can also call plot for each of them. To indicate that you've want Python to plot what you have told it so far, you have to call plt.show(). "
   ]
  },
  {
   "cell_type": "code",
   "execution_count": null,
   "metadata": {},
   "outputs": [],
   "source": [
    "import numpy as np\n",
    "t = np.arange(0,5,1)\n",
    "data1 = np.arange(0,2.5,0.5)\n",
    "data2 = data1**2\n",
    "plt.plot(t,data1, t, data2)\n"
   ]
  },
  {
   "cell_type": "code",
   "execution_count": null,
   "metadata": {},
   "outputs": [],
   "source": [
    "plt.plot(t, data1)\n",
    "plt.plot(t, data2)\n",
    "plt.show()"
   ]
  },
  {
   "cell_type": "markdown",
   "metadata": {},
   "source": [
    "Using these two methods, you can also indicate the style of each line separately, by using what we discussed before for each separate line call.\n",
    "\n",
    "If your data is all in 1 array, you can just plot them in one go. You might have to transpose your data if it does not plot the way you intended. You can do this on a numpy array by calling array.T. See if you can find out in the second example what dimension dictates the number of lines"
   ]
  },
  {
   "cell_type": "code",
   "execution_count": null,
   "metadata": {},
   "outputs": [],
   "source": [
    "data_all = np.concatenate((np.expand_dims(data1,0), np.expand_dims(data2,0)))\n",
    "plt.plot(data_all) # Wrong way around\n",
    "plt.show()\n"
   ]
  },
  {
   "cell_type": "code",
   "execution_count": null,
   "metadata": {},
   "outputs": [],
   "source": [
    "plt.plot(t,data_all.T) # Fix it to plot the two lines we want"
   ]
  },
  {
   "cell_type": "code",
   "execution_count": null,
   "metadata": {},
   "outputs": [],
   "source": [
    "print(data_all)\n",
    "print(data_all.shape)\n",
    "print(data_all.T.shape)\n",
    "print(data_all.T)"
   ]
  },
  {
   "cell_type": "markdown",
   "metadata": {},
   "source": [
    "### Adding a legend\n",
    "When we are plotting multiple lines, we want to add a legend of course. Agian this can be done in a coupel of different ways. You can add the labels in while you are plotting, or you can add them later. The two cells below do the same thing:"
   ]
  },
  {
   "cell_type": "code",
   "execution_count": null,
   "metadata": {},
   "outputs": [],
   "source": [
    "plt.plot(t, data1, label='Linear')\n",
    "plt.plot(t, data2, label='Quadratic')\n",
    "plt.legend()\n",
    "plt.show()"
   ]
  },
  {
   "cell_type": "code",
   "execution_count": null,
   "metadata": {},
   "outputs": [],
   "source": [
    "plt.plot(t,data_all.T) # Fix it to plot the two lines we want\n",
    "plt.legend( ('Linear', 'Quadratic') )\n",
    "plt.show()"
   ]
  },
  {
   "cell_type": "markdown",
   "metadata": {},
   "source": [
    "The legend function takes a number of arguments. Remember to use the help function to find out all of them. The most important one is probably position:"
   ]
  },
  {
   "cell_type": "code",
   "execution_count": null,
   "metadata": {},
   "outputs": [],
   "source": [
    "help(plt.legend)"
   ]
  },
  {
   "cell_type": "code",
   "execution_count": null,
   "metadata": {},
   "outputs": [],
   "source": [
    "plt.plot(t,data_all.T) # Fix it to plot the two lines we want\n",
    "plt.legend(['Linear', 'Quadratic'], loc=(0.1,0.8))\n",
    "plt.show()"
   ]
  },
  {
   "cell_type": "markdown",
   "metadata": {},
   "source": [
    "### Subplots\n",
    "\n",
    "Often you will want to make subplots, one figure that contains multiple plots. You can simply call subplot to do this:"
   ]
  },
  {
   "cell_type": "code",
   "execution_count": null,
   "metadata": {},
   "outputs": [],
   "source": [
    "plt.subplot(2,1,1)\n",
    "plt.plot(t, data1)\n",
    "plt.subplot(2,1,2)\n",
    "plt.plot(t, data2)\n"
   ]
  },
  {
   "cell_type": "markdown",
   "metadata": {},
   "source": [
    "A more Pythonic way to do this is with the function 'subplots'. One annoying thing about this function is that it changes the functions you have to use to put in the xlabel, ylabel, title, etc. The reason you might want to do this though, is that it will allow you to very easily loop through all of your subplots.\n",
    "\n",
    "The reason this happens is because a plot is wrapped up in two different objects, a figure and an axis. When you use the function plt.plot(), it will automatically create both a figure and an axis for you. The functions you use are executed on the figure.\n",
    "\n",
    "However, when we want to create multiple subplots, we can't just use figure functions, because the figure will contain multiple axes, each containing a plot. Therefore you have to use the axis functions. \n",
    "\n",
    "This all sounds a lot more complicated than it actually is. Let's just start with an example:\n",
    "\n",
    "If we want to label the x- and y-axes, rather than calling the xlabel or ylabel functions, we use 'set_xlabel' or 'set_ylabel'"
   ]
  },
  {
   "cell_type": "code",
   "execution_count": null,
   "metadata": {},
   "outputs": [],
   "source": [
    "fig, axes = plt.subplots(2, 1)\n",
    "fig.figsize = (1,1)\n",
    "axes[0].plot(t, data1)\n",
    "axes[1].plot(t, data2)\n",
    "\n",
    "axes[0].set_xlabel('Time(s)')\n",
    "axes[1].set_ylabel('Size (cm)')\n",
    "\n",
    "\n",
    "plt.tight_layout()\n"
   ]
  },
  {
   "cell_type": "code",
   "execution_count": null,
   "metadata": {},
   "outputs": [],
   "source": [
    "fig, axes = plt.subplots()\n",
    "axes.plot(data_all.T)"
   ]
  },
  {
   "cell_type": "markdown",
   "metadata": {},
   "source": [
    "You can find the full overview of axes functions here: https://matplotlib.org/3.1.1/api/axes_api.html"
   ]
  },
  {
   "cell_type": "markdown",
   "metadata": {},
   "source": [
    "### Other types of plots\n",
    "\n",
    "Of course line plots are not the only types of plots that pyplot can handle. Some of the more common ones include:\n",
    "* Image - imshow\n",
    "* Histogram - hist\n",
    "* Bar charts - bar\n",
    "* Pie charts - pie\n",
    "* Scatter plots - scatter\n",
    "* Polar plots\n",
    "\n",
    "See https://matplotlib.org/3.1.1/tutorials/introductory/sample_plots.html for a complete overview\n",
    "\n",
    "Below is an example of some of these plots"
   ]
  },
  {
   "cell_type": "code",
   "execution_count": null,
   "metadata": {},
   "outputs": [],
   "source": [
    "fig, axes = plt.subplots(2, 2,figsize=(10,10))\n",
    "\n",
    "image = np.eye(15)\n",
    "axes[0,0].imshow(image, cmap='Spectral')\n",
    "\n",
    "hist_data = np.random.normal(0,1,1000)\n",
    "axes[0,1].hist(hist_data, color = \"black\")\n",
    "\n",
    "pie_data = [5, 8, 2, 1]\n",
    "axes[1,0].pie(pie_data, labels=['Master students', 'PhD students', 'PIs', 'Research assistant'])\n",
    "\n",
    "scatter_data = np.random.rand(2,50)\n",
    "axes[1,1].scatter(scatter_data[0], scatter_data[1],s=10)\n",
    "\n",
    "plt.tight_layout()"
   ]
  },
  {
   "cell_type": "markdown",
   "metadata": {},
   "source": [
    "A couple of things to note in the plots above:\n",
    "* We use the parameter 'figsize' in the subplots function. This parameter should be a tuple of length 2, where the first value is the width in inches, and the second is the height in inches. \n",
    "* Imshow takes a parameter called 'cmap', which is the colormap of the figure. The default is viridis, but you can change it to a number of preset colormaps (https://matplotlib.org/3.1.0/tutorials/colors/colormaps.html), or you can create your own.\n",
    "* The histogram function takes the parameter color, which can either be a preset color, or you can put in your own rbg values. \n",
    "* The pie chart takes the 'label' parameter, which contains the label for each wedge of the pie chart.\n",
    "* The scatter plot takes the parameter 's', which is the size of the marker in points**2. "
   ]
  }
 ],
 "metadata": {
  "kernelspec": {
   "display_name": "Python 3",
   "language": "python",
   "name": "python3"
  },
  "language_info": {
   "codemirror_mode": {
    "name": "ipython",
    "version": 3
   },
   "file_extension": ".py",
   "mimetype": "text/x-python",
   "name": "python",
   "nbconvert_exporter": "python",
   "pygments_lexer": "ipython3",
   "version": "3.7.1"
  }
 },
 "nbformat": 4,
 "nbformat_minor": 2
}
