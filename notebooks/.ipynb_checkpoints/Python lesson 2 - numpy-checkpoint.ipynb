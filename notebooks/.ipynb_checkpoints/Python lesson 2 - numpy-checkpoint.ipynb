{
 "cells": [
  {
   "cell_type": "markdown",
   "metadata": {},
   "source": [
    "## Part 2: Packages and modules"
   ]
  },
  {
   "cell_type": "markdown",
   "metadata": {},
   "source": [
    "Over 99% of the time, you are not the only person with a particular problem that needs solving. There is a really good chance someone has already implemented a function that you need. If they were nice and organised, they put it in a nice bundle so it's easy to use. We call these collections of functions *modules*. A collection of modules is called a *package*. There are tons of really good packages available for anyone to use (remember, Python is open-source). Most of them will have already been installed in the Anaconda distribution of Python. \n",
    "\n",
    "You can start using a package by calling *import* followed by the package name. There are a couple of ways to do this. For example for the function numpy:"
   ]
  },
  {
   "cell_type": "code",
   "execution_count": 2,
   "metadata": {},
   "outputs": [],
   "source": [
    "import numpy\n",
    "import numpy as np\n",
    "from numpy import nanmean\n",
    "from numpy import *"
   ]
  },
  {
   "cell_type": "markdown",
   "metadata": {},
   "source": [
    "* In the first case you import all the functions from numpy. If you want to use any, you'll have to type 'numpy.*function_name*()'.\n",
    "* In the second case, we have abbreviated numpy to np, so you'll just have to type 'np.*function_name*()'.\n",
    "* In the third case, we have just imported one specific function that we wanted, and can now use that by just typing the function name direction (in this case nanmean())\n",
    "* The fourth one is something you generally want to avoid, because it imports all the functions, but you don't have to type either numpy or np before the function name. This can cause confusion, because a given package can contain many functions and you might have another function with the same name, either from a different package, or because you've implemented it yourself. Try to avoid this option"
   ]
  },
  {
   "cell_type": "markdown",
   "metadata": {},
   "source": [
    "#### module help\n",
    "\n",
    "For most packages there is great documentation available. In the case of some of the most-used scientific packages, such as numpy, scikit-learn and matplotlib, this even contains examples and specific use-cases. You can usually just google 'function name package name' (e.g. nanmean numpy) to get all the information.\n",
    "\n",
    "Anohter way to get information on a function is by either typing help(function_name) or function_name?:"
   ]
  },
  {
   "cell_type": "code",
   "execution_count": 2,
   "metadata": {},
   "outputs": [],
   "source": [
    "nanmean?"
   ]
  },
  {
   "cell_type": "markdown",
   "metadata": {},
   "source": [
    "This will give you an overview of the input parameters, what the default values are, what the function does, the output, and sometimes even some examples."
   ]
  },
  {
   "cell_type": "markdown",
   "metadata": {},
   "source": [
    "### Numpy"
   ]
  },
  {
   "cell_type": "markdown",
   "metadata": {},
   "source": [
    "The most important part of numpy is the n-dimensional arrays or ndarrays. They are objects with a number of builtin methods and attributes that optimize array calculations and indexing. ndarrays are faster and more powerful to work with than lists, and in most cases it is recommended to work with these rather than lists. \n",
    "\n",
    "You can make an array in a number of ways:\n",
    "* Make a list and turn it into an array\n",
    "* Initialize an array with one of the array creation functions\n",
    "* Use another method that results in a ndarray\n",
    "\n",
    "We're going to start with taking a list and turning it into an array:"
   ]
  },
  {
   "cell_type": "code",
   "execution_count": 3,
   "metadata": {},
   "outputs": [
    {
     "name": "stdout",
     "output_type": "stream",
     "text": [
      "<class 'list'>\n"
     ]
    }
   ],
   "source": [
    "a = [[1,2],[3,4]]\n",
    "print(type(a))"
   ]
  },
  {
   "cell_type": "code",
   "execution_count": 4,
   "metadata": {},
   "outputs": [
    {
     "name": "stdout",
     "output_type": "stream",
     "text": [
      "<class 'numpy.ndarray'>\n"
     ]
    }
   ],
   "source": [
    "b = np.array(a)\n",
    "print(type(b))"
   ]
  },
  {
   "cell_type": "markdown",
   "metadata": {},
   "source": [
    "The numpy array function has a number of parameters that you can use. \n",
    "\n",
    "The dtype is the type of the elements in the array (and for numpy arrays all elements must be the same type). Our list only had integers, so the function will automatically assign the dtype as ints. However, maybe we want them to be floats, we can specify this with the dtype function:"
   ]
  },
  {
   "cell_type": "code",
   "execution_count": 5,
   "metadata": {},
   "outputs": [
    {
     "name": "stdout",
     "output_type": "stream",
     "text": [
      "int32\n",
      "float64\n"
     ]
    }
   ],
   "source": [
    "c = np.array(a, dtype=np.float)\n",
    "print(b.dtype)\n",
    "print(c.dtype)"
   ]
  },
  {
   "cell_type": "markdown",
   "metadata": {},
   "source": [
    "Another important parameter is the 'copy' parameter. If you copy is True, then the array function will always make a copy of whatever the input was, which means that the values are copied to a new place in the memory with a new pointer. However, if copy is False and the input was already an ndarray, the values will stay in the same place and the new variable will point to the same place in memory. This means that if I change a value in the new variable, the old one will also change!!!"
   ]
  },
  {
   "cell_type": "code",
   "execution_count": 6,
   "metadata": {},
   "outputs": [
    {
     "name": "stdout",
     "output_type": "stream",
     "text": [
      "original array: [[1 2]\n",
      " [3 4]]\n",
      "copied array: [[1 2]\n",
      " [3 4]]\n",
      "original array: [[5 2]\n",
      " [3 4]]\n",
      "copied array: [[5 2]\n",
      " [3 4]]\n"
     ]
    }
   ],
   "source": [
    "c = np.array(b, copy = False)\n",
    "print('original array:', b)\n",
    "print('copied array:',c)\n",
    "\n",
    "c[0,0] = 5\n",
    "print('original array:', b)\n",
    "print('copied array:',c)"
   ]
  },
  {
   "cell_type": "markdown",
   "metadata": {},
   "source": [
    "You can also specify the number dimensions you want your array to have. This will add singleton dimensions (of size 1) to your array. This may seem a bit silly now, but it could come in handy, for example if you want to combine multiple arrays along that extra dimension"
   ]
  },
  {
   "cell_type": "code",
   "execution_count": 7,
   "metadata": {},
   "outputs": [
    {
     "name": "stdout",
     "output_type": "stream",
     "text": [
      "(2, 2)\n",
      "(1, 2, 2)\n"
     ]
    }
   ],
   "source": [
    "d = np.array(b, copy = True, ndmin = 3)\n",
    "print(b.shape)\n",
    "print(d.shape)\n"
   ]
  },
  {
   "cell_type": "markdown",
   "metadata": {},
   "source": [
    "Now let's have a look at the array creation functions. You can find a full list here: https://numpy.org/devdocs/reference/routines.array-creation.html\n",
    "\n",
    "In numpy you can initialize an array of given dimensions with zeros, ones or empty. You have to give the dimensions as either a list of a tuple. When printing the empty array it will act a bit weird, because it is essentially python reserving space in the memory. Which values are in the array depend on whatever was in that memory space before, as it does not set any values. When using empy, you should therefore be careful with using this method and make sure you set all values at some point"
   ]
  },
  {
   "cell_type": "code",
   "execution_count": 8,
   "metadata": {},
   "outputs": [
    {
     "name": "stdout",
     "output_type": "stream",
     "text": [
      "[[0. 0.]\n",
      " [0. 0.]\n",
      " [0. 0.]]\n",
      "[[1. 1.]\n",
      " [1. 1.]]\n",
      "[[0.00000000e+000 0.00000000e+000 0.00000000e+000]\n",
      " [0.00000000e+000 0.00000000e+000 6.02760088e-321]\n",
      " [1.28625465e+248 5.98123966e-154 5.28556325e+180]]\n"
     ]
    }
   ],
   "source": [
    "a = np.zeros((3,2,))\n",
    "print(a)\n",
    "b = np.ones((2,2))\n",
    "print(b)\n",
    "c = np.empty([3,3])\n",
    "print(c)"
   ]
  },
  {
   "cell_type": "markdown",
   "metadata": {},
   "source": [
    "You can also fill your array with a specified fill value by using the full method. Like all of the method above, this method has additional parameters, most importantly dtype, which you can use to specify the type of the elements in your array"
   ]
  },
  {
   "cell_type": "code",
   "execution_count": 9,
   "metadata": {},
   "outputs": [
    {
     "name": "stdout",
     "output_type": "stream",
     "text": [
      "[[5 5 5]\n",
      " [5 5 5]\n",
      " [5 5 5]]\n",
      "type of elements: int32\n",
      "[[5. 5. 5.]\n",
      " [5. 5. 5.]\n",
      " [5. 5. 5.]]\n",
      "type of elements: float64\n"
     ]
    }
   ],
   "source": [
    "d = np.full([3,3], 5)\n",
    "print(d)\n",
    "print('type of elements:', d.dtype)\n",
    "e = np.full([3,3], 5, dtype=float)\n",
    "print(e)\n",
    "print('type of elements:', e.dtype)"
   ]
  },
  {
   "cell_type": "markdown",
   "metadata": {},
   "source": [
    "All of the functions above have a \\_like function (empty\\_like, ones\\_like, etc), which instead of taking dimensions as input, takes an array as input and makes a new array with the same dimensions:"
   ]
  },
  {
   "cell_type": "code",
   "execution_count": 10,
   "metadata": {},
   "outputs": [
    {
     "name": "stdout",
     "output_type": "stream",
     "text": [
      "[[1 1 1]\n",
      " [1 1 1]\n",
      " [1 1 1]]\n"
     ]
    }
   ],
   "source": [
    "a = np.ones_like(d)\n",
    "print(a)"
   ]
  },
  {
   "cell_type": "markdown",
   "metadata": {},
   "source": [
    "The last way to make numpy arrays is through certain functions that result in an array. We will discuss them in more depth as we discuss the function, for now just a couple of examples:"
   ]
  },
  {
   "cell_type": "code",
   "execution_count": 11,
   "metadata": {},
   "outputs": [
    {
     "name": "stdout",
     "output_type": "stream",
     "text": [
      "[0.  0.1 0.2 0.3 0.4 0.5 0.6 0.7 0.8 0.9]\n",
      "[1.00000000e+00 1.29154967e+01 1.66810054e+02 2.15443469e+03\n",
      " 2.78255940e+04 3.59381366e+05 4.64158883e+06 5.99484250e+07\n",
      " 7.74263683e+08 1.00000000e+10]\n"
     ]
    }
   ],
   "source": [
    "a = np.arange(0,1,0.1)\n",
    "print(a)\n",
    "b = np.logspace(0,10,num=10)\n",
    "print(b)"
   ]
  },
  {
   "cell_type": "markdown",
   "metadata": {},
   "source": [
    "#### Indexing and iterating\n",
    "\n",
    "Indexing (i.e. selecting values out of an array) in ndarrays works very similar to lists. \n"
   ]
  },
  {
   "cell_type": "code",
   "execution_count": 27,
   "metadata": {},
   "outputs": [
    {
     "name": "stdout",
     "output_type": "stream",
     "text": [
      "[[ 0  1  2  3]\n",
      " [ 4  5  6  7]\n",
      " [ 8  9 10 11]\n",
      " [12 13 14 15]]\n",
      "[0 1 2 3]\n",
      "[ 0  4  8 12]\n"
     ]
    }
   ],
   "source": [
    "a = np.arange(16).reshape((4,4))\n",
    "print(a)\n",
    "# Select the first row\n",
    "print(a[0])\n",
    "# Select the first column\n",
    "print(a[:,0])"
   ]
  },
  {
   "cell_type": "markdown",
   "metadata": {},
   "source": [
    "You can also combine indices for 2 or more dimensions:"
   ]
  },
  {
   "cell_type": "code",
   "execution_count": 28,
   "metadata": {},
   "outputs": [
    {
     "name": "stdout",
     "output_type": "stream",
     "text": [
      "5\n",
      "[[10 11]\n",
      " [14 15]]\n"
     ]
    }
   ],
   "source": [
    "print(a[1,1])\n",
    "print(a[2:,2:])"
   ]
  },
  {
   "cell_type": "markdown",
   "metadata": {},
   "source": [
    "You can also index using values of another array. The example below selects the values on the diagonal."
   ]
  },
  {
   "cell_type": "code",
   "execution_count": 36,
   "metadata": {},
   "outputs": [
    {
     "name": "stdout",
     "output_type": "stream",
     "text": [
      "[[1. 0. 0. 0.]\n",
      " [0. 1. 0. 0.]\n",
      " [0. 0. 1. 0.]\n",
      " [0. 0. 0. 1.]]\n",
      "[ 0  5 10 15]\n"
     ]
    }
   ],
   "source": [
    "ind = np.eye(4)\n",
    "print(ind)\n",
    "\n",
    "print(a[ind==1])"
   ]
  },
  {
   "cell_type": "markdown",
   "metadata": {},
   "source": [
    "Like lists, you can *iterate* over a ndarray. This means you can loop through the array to look at every element. when you loop through, you just loop through 1 dimension. That means that if you have a 3D array, every element will be a 2D array. You can use 'nested loops' (i.e. a loop within a loop) to get the individual elements."
   ]
  },
  {
   "cell_type": "code",
   "execution_count": 31,
   "metadata": {},
   "outputs": [
    {
     "name": "stdout",
     "output_type": "stream",
     "text": [
      "[0 1 2 3]\n",
      "[4 5 6 7]\n",
      "[ 8  9 10 11]\n",
      "[12 13 14 15]\n",
      "0\n",
      "1\n",
      "2\n",
      "3\n",
      "4\n",
      "5\n",
      "6\n",
      "7\n",
      "8\n",
      "9\n",
      "10\n",
      "11\n",
      "12\n",
      "13\n",
      "14\n",
      "15\n"
     ]
    }
   ],
   "source": [
    "for row in a:\n",
    "    print(row)\n",
    "\n",
    "# A nested loop to get individual elements\n",
    "for row in a:\n",
    "    for element in row:\n",
    "        print(element)"
   ]
  },
  {
   "cell_type": "markdown",
   "metadata": {},
   "source": [
    "An easier way to get the individual elements is to use the attribute 'flat', which collapses all the dimensions in an ndarray into one long list:"
   ]
  },
  {
   "cell_type": "code",
   "execution_count": 33,
   "metadata": {},
   "outputs": [
    {
     "name": "stdout",
     "output_type": "stream",
     "text": [
      "0\n",
      "1\n",
      "2\n",
      "3\n",
      "4\n",
      "5\n",
      "6\n",
      "7\n",
      "8\n",
      "9\n",
      "10\n",
      "11\n",
      "12\n",
      "13\n",
      "14\n",
      "15\n"
     ]
    }
   ],
   "source": [
    "for element in a.flat:\n",
    "    print(element)"
   ]
  },
  {
   "cell_type": "markdown",
   "metadata": {},
   "source": [
    "#### Array attributes\n",
    "An array is an object with builtin atributes that give you information about the array. The most importants ones are:\n",
    "* ndim - number of dimensions\n",
    "* shape - dimensions of the array\n",
    "* dtype - type of the array \n",
    "\n",
    "Try to see if you can predict what the result is of the code below"
   ]
  },
  {
   "cell_type": "code",
   "execution_count": 12,
   "metadata": {},
   "outputs": [
    {
     "name": "stdout",
     "output_type": "stream",
     "text": [
      "3\n",
      "(3, 4, 3)\n",
      "float64\n"
     ]
    }
   ],
   "source": [
    "a = np.ones((3,4,3))\n",
    "print(a.ndim)\n",
    "print(a.shape)\n",
    "print(a.dtype)"
   ]
  },
  {
   "cell_type": "markdown",
   "metadata": {},
   "source": [
    "#### Element-wise multiplications\n",
    "You can easily perform element-wise multiplications on any ndarray. There are special methods for matrix-wise multiplications which we'll talk about later"
   ]
  },
  {
   "cell_type": "code",
   "execution_count": 13,
   "metadata": {},
   "outputs": [
    {
     "name": "stdout",
     "output_type": "stream",
     "text": [
      "[1 2 3 4]\n",
      "[2 3 4 5]\n",
      "[2 4 6 8]\n",
      "[ 1  4  9 16]\n"
     ]
    }
   ],
   "source": [
    "a = np.arange(1,5)\n",
    "print(a)\n",
    "print(a+1)\n",
    "print(a*2)\n",
    "print(a**2)"
   ]
  },
  {
   "cell_type": "markdown",
   "metadata": {},
   "source": [
    "#### Array methods\n",
    "There are countless methods you can use on arrays. You will probably encounter most of them while you are working with arrays. Here I'm just going to highlight a few that might come in handy. \n",
    "* reshape\n",
    "* sum, min, max\n",
    "* exp, sqrt"
   ]
  },
  {
   "cell_type": "markdown",
   "metadata": {},
   "source": [
    "Reshape is used to change the shape of an array. There are some restrictions to this, the total size needs to stay the same. "
   ]
  },
  {
   "cell_type": "code",
   "execution_count": 26,
   "metadata": {},
   "outputs": [
    {
     "name": "stdout",
     "output_type": "stream",
     "text": [
      "(9,)\n",
      "(3, 3)\n"
     ]
    }
   ],
   "source": [
    "a = np.arange(1,10)\n",
    "print(a.shape)\n",
    "b = a.reshape((3,3))\n",
    "print(b.shape)"
   ]
  },
  {
   "cell_type": "markdown",
   "metadata": {},
   "source": [
    "If you know one dimension, but not the other, you can put in -1 as the dimension. This will automatically fill in the right dimension if possible"
   ]
  },
  {
   "cell_type": "code",
   "execution_count": 25,
   "metadata": {},
   "outputs": [
    {
     "name": "stdout",
     "output_type": "stream",
     "text": [
      "(12,)\n",
      "(3, 4)\n"
     ]
    }
   ],
   "source": [
    "c = np.arange(1,13)\n",
    "print(c.shape)\n",
    "d = c.reshape((3,-1))\n",
    "print(d.shape)"
   ]
  },
  {
   "cell_type": "markdown",
   "metadata": {},
   "source": [
    "The sum, min and max functions do exactly what it says on the tin, they find the sum of the array, the minimum value in the array and the maximum value in the array respectively"
   ]
  },
  {
   "cell_type": "code",
   "execution_count": 28,
   "metadata": {},
   "outputs": [
    {
     "name": "stdout",
     "output_type": "stream",
     "text": [
      "sum of d: 78\n",
      "minimum of d: 1\n",
      "maximum of d: 12\n"
     ]
    }
   ],
   "source": [
    "print('sum of d:', d.sum())\n",
    "print('minimum of d:', d.min())\n",
    "print('maximum of d:', d.max())"
   ]
  },
  {
   "cell_type": "markdown",
   "metadata": {},
   "source": [
    "As you can see, each of these functions find the value over the entire array. However, you might want to find the sum or max of each row. In which case, you can use the 'axis' parameter, which specifies the dimension along which the function is performed. Remember that the dimensions start counting at 0"
   ]
  },
  {
   "cell_type": "code",
   "execution_count": 35,
   "metadata": {},
   "outputs": [
    {
     "name": "stdout",
     "output_type": "stream",
     "text": [
      "sum of d: [15 18 21 24]\n",
      "minimum of d: [1 5 9]\n",
      "maximum of d: [ 4  8 12]\n"
     ]
    }
   ],
   "source": [
    "print('sum of d:', d.sum(axis=0))\n",
    "print('minimum of d:', d.min(axis=1))\n",
    "print('maximum of d:', d.max(axis=1))"
   ]
  },
  {
   "cell_type": "markdown",
   "metadata": {},
   "source": [
    "#### Numpy constants\n",
    "\n",
    "Numpy has some constants (variables that always have the same value) built in. They are:\n",
    "* Inf - float representation of a postive infinity\n",
    "* ninf - float representation of a negative infinity \n",
    "* nan - 'Not a Number', used as a placeholder for an unknown value, or may be used to represent an undefinied number (e.g. 0/0)\n",
    "* e - Euler's constant\n",
    "* pi - pi\n",
    "\n",
    "The constants also have associated functions, for example isnan to check if a variable is nan. \n"
   ]
  },
  {
   "cell_type": "code",
   "execution_count": 4,
   "metadata": {},
   "outputs": [],
   "source": [
    "a = np.inf\n",
    "b = np.nan\n",
    "c = np.pi"
   ]
  },
  {
   "cell_type": "code",
   "execution_count": 12,
   "metadata": {},
   "outputs": [
    {
     "name": "stdout",
     "output_type": "stream",
     "text": [
      "True\n",
      "3.141592653589793\n"
     ]
    }
   ],
   "source": [
    "print(a>10000000)\n",
    "print(c)"
   ]
  },
  {
   "cell_type": "markdown",
   "metadata": {},
   "source": [
    "NaN can behave in unexpected ways at times. For example, any comparison will always result in a 'False':"
   ]
  },
  {
   "cell_type": "code",
   "execution_count": 14,
   "metadata": {},
   "outputs": [
    {
     "name": "stdout",
     "output_type": "stream",
     "text": [
      "False\n",
      "False\n"
     ]
    }
   ],
   "source": [
    "print(np.nan < 1)\n",
    "print(np.nan >= 1)"
   ]
  },
  {
   "cell_type": "markdown",
   "metadata": {},
   "source": [
    "If you do any computation with nans, it will always result in a nan:"
   ]
  },
  {
   "cell_type": "code",
   "execution_count": 15,
   "metadata": {},
   "outputs": [
    {
     "name": "stdout",
     "output_type": "stream",
     "text": [
      "nan\n",
      "nan\n"
     ]
    }
   ],
   "source": [
    "print(np.nan * 3)\n",
    "print(np.nan ** 2)"
   ]
  },
  {
   "cell_type": "markdown",
   "metadata": {},
   "source": [
    "However, NumPy has some functions to deal with this. If you have a numpy array of numbers, but some of them are nans, you can use the 'nanmean' function to calculate the mean. Similarly there are 'nanmax', 'nansum' and 'nanstd' functions. These functions ignore the nan value and calculate the answer based on the other values in the array:."
   ]
  },
  {
   "cell_type": "code",
   "execution_count": 17,
   "metadata": {},
   "outputs": [
    {
     "name": "stdout",
     "output_type": "stream",
     "text": [
      "nan\n",
      "2.75\n"
     ]
    }
   ],
   "source": [
    "a = np.array([1,2,3,np.nan, 5])\n",
    "print(np.mean(a))\n",
    "print(np.nanmean(a))"
   ]
  }
 ],
 "metadata": {
  "kernelspec": {
   "display_name": "Python 3",
   "language": "python",
   "name": "python3"
  },
  "language_info": {
   "codemirror_mode": {
    "name": "ipython",
    "version": 3
   },
   "file_extension": ".py",
   "mimetype": "text/x-python",
   "name": "python",
   "nbconvert_exporter": "python",
   "pygments_lexer": "ipython3",
   "version": "3.7.1"
  }
 },
 "nbformat": 4,
 "nbformat_minor": 2
}
