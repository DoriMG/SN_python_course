{
 "cells": [
  {
   "cell_type": "markdown",
   "metadata": {},
   "source": [
    "## Part 2: Packages and modules"
   ]
  },
  {
   "cell_type": "markdown",
   "metadata": {},
   "source": [
    "Over 99% of the time, you are not the only person with a particular problem that needs solving. There is a really good chance someone has already implemented a function that you need. If they were nice and organised, they put it in a nice bundle so it's easy to use. We call these collections of functions *modules*. A collection of modules is called a *package*. There are tons of really good packages available for anyone to use (remember, Python is open-source). Most of them will have already been installed in the Anaconda distribution of Python. \n",
    "\n",
    "You can start using a package by calling *import* followed by the package name. There are a couple of ways to do this. For example for the function numpy:"
   ]
  },
  {
   "cell_type": "code",
   "execution_count": 1,
   "metadata": {},
   "outputs": [],
   "source": [
    "import numpy\n",
    "import numpy as np\n",
    "from numpy import nanmean, nanstd\n",
    "from numpy import * # Don't do this!!"
   ]
  },
  {
   "cell_type": "markdown",
   "metadata": {},
   "source": [
    "* In the first case you import all the functions from numpy. If you want to use any, you'll have to type 'numpy.*function_name*()'.\n",
    "* In the second case, we have abbreviated numpy to np, so you'll just have to type 'np.*function_name*()'.\n",
    "* In the third case, we have just imported one specific function that we wanted, and can now use that by just typing the function name direction (in this case nanmean())\n",
    "* The fourth one is something you generally want to avoid, because it imports all the functions, but you don't have to type either numpy or np before the function name. This can cause confusion, because a given package can contain many functions and you might have another function with the same name, either from a different package, or because you've implemented it yourself. Try to avoid this option"
   ]
  },
  {
   "cell_type": "markdown",
   "metadata": {},
   "source": [
    "#### module help\n",
    "\n",
    "For most packages there is great documentation available. In the case of some of the most-used scientific packages, such as numpy, scikit-learn and matplotlib, this even contains examples and specific use-cases. You can usually just google 'function name package name' (e.g. nanmean numpy) to get all the information.\n",
    "\n",
    "Anohter way to get information on a function is by either typing help(function_name) or function_name?:"
   ]
  },
  {
   "cell_type": "code",
   "execution_count": 2,
   "metadata": {},
   "outputs": [
    {
     "name": "stdout",
     "output_type": "stream",
     "text": [
      "Help on function nanmean in module numpy.lib.nanfunctions:\n",
      "\n",
      "nanmean(a, axis=None, dtype=None, out=None, keepdims=<no value>)\n",
      "    Compute the arithmetic mean along the specified axis, ignoring NaNs.\n",
      "    \n",
      "    Returns the average of the array elements.  The average is taken over\n",
      "    the flattened array by default, otherwise over the specified axis.\n",
      "    `float64` intermediate and return values are used for integer inputs.\n",
      "    \n",
      "    For all-NaN slices, NaN is returned and a `RuntimeWarning` is raised.\n",
      "    \n",
      "    .. versionadded:: 1.8.0\n",
      "    \n",
      "    Parameters\n",
      "    ----------\n",
      "    a : array_like\n",
      "        Array containing numbers whose mean is desired. If `a` is not an\n",
      "        array, a conversion is attempted.\n",
      "    axis : {int, tuple of int, None}, optional\n",
      "        Axis or axes along which the means are computed. The default is to compute\n",
      "        the mean of the flattened array.\n",
      "    dtype : data-type, optional\n",
      "        Type to use in computing the mean.  For integer inputs, the default\n",
      "        is `float64`; for inexact inputs, it is the same as the input\n",
      "        dtype.\n",
      "    out : ndarray, optional\n",
      "        Alternate output array in which to place the result.  The default\n",
      "        is ``None``; if provided, it must have the same shape as the\n",
      "        expected output, but the type will be cast if necessary.  See\n",
      "        `doc.ufuncs` for details.\n",
      "    keepdims : bool, optional\n",
      "        If this is set to True, the axes which are reduced are left\n",
      "        in the result as dimensions with size one. With this option,\n",
      "        the result will broadcast correctly against the original `a`.\n",
      "    \n",
      "        If the value is anything but the default, then\n",
      "        `keepdims` will be passed through to the `mean` or `sum` methods\n",
      "        of sub-classes of `ndarray`.  If the sub-classes methods\n",
      "        does not implement `keepdims` any exceptions will be raised.\n",
      "    \n",
      "    Returns\n",
      "    -------\n",
      "    m : ndarray, see dtype parameter above\n",
      "        If `out=None`, returns a new array containing the mean values,\n",
      "        otherwise a reference to the output array is returned. Nan is\n",
      "        returned for slices that contain only NaNs.\n",
      "    \n",
      "    See Also\n",
      "    --------\n",
      "    average : Weighted average\n",
      "    mean : Arithmetic mean taken while not ignoring NaNs\n",
      "    var, nanvar\n",
      "    \n",
      "    Notes\n",
      "    -----\n",
      "    The arithmetic mean is the sum of the non-NaN elements along the axis\n",
      "    divided by the number of non-NaN elements.\n",
      "    \n",
      "    Note that for floating-point input, the mean is computed using the same\n",
      "    precision the input has.  Depending on the input data, this can cause\n",
      "    the results to be inaccurate, especially for `float32`.  Specifying a\n",
      "    higher-precision accumulator using the `dtype` keyword can alleviate\n",
      "    this issue.\n",
      "    \n",
      "    Examples\n",
      "    --------\n",
      "    >>> a = np.array([[1, np.nan], [3, 4]])\n",
      "    >>> np.nanmean(a)\n",
      "    2.6666666666666665\n",
      "    >>> np.nanmean(a, axis=0)\n",
      "    array([ 2.,  4.])\n",
      "    >>> np.nanmean(a, axis=1)\n",
      "    array([ 1.,  3.5])\n",
      "\n"
     ]
    }
   ],
   "source": [
    "np.nanmean?\n",
    "help(np.nanmean)"
   ]
  },
  {
   "cell_type": "markdown",
   "metadata": {},
   "source": [
    "This will give you an overview of the input parameters, what the default values are, what the function does, the output, and sometimes even some examples."
   ]
  },
  {
   "cell_type": "markdown",
   "metadata": {},
   "source": [
    "### Numpy"
   ]
  },
  {
   "cell_type": "markdown",
   "metadata": {},
   "source": [
    "The most important part of numpy is the n-dimensional arrays or ndarrays. They are objects with a number of builtin methods and attributes that optimize array calculations and indexing. ndarrays are faster and more powerful to work with than lists, and in most cases it is recommended to work with these rather than lists. \n",
    "\n",
    "To start working with numpy, you will have to make an numpy array, either by turning a list into an array, or by using one of the numpy functions to make a numpy array. It's very easy to turn a list into an array:\n"
   ]
  },
  {
   "cell_type": "code",
   "execution_count": 5,
   "metadata": {},
   "outputs": [
    {
     "name": "stdout",
     "output_type": "stream",
     "text": [
      "<class 'list'>\n",
      "<class 'float'>\n"
     ]
    }
   ],
   "source": [
    "a = [[1,2],[3,4]]\n",
    "print(type(a))"
   ]
  },
  {
   "cell_type": "code",
   "execution_count": 12,
   "metadata": {},
   "outputs": [
    {
     "name": "stdout",
     "output_type": "stream",
     "text": [
      "<class 'numpy.ndarray'>\n"
     ]
    },
    {
     "data": {
      "text/plain": [
       "array([[1, 2],\n",
       "       [3, 4]])"
      ]
     },
     "execution_count": 12,
     "metadata": {},
     "output_type": "execute_result"
    }
   ],
   "source": [
    "import numpy as np\n",
    "b = np.array(a)\n",
    "print(type(b))\n",
    "b"
   ]
  },
  {
   "cell_type": "markdown",
   "metadata": {},
   "source": [
    "Now let's have a look at the array creation functions. You can find a full list here: https://numpy.org/devdocs/reference/routines.array-creation.html\n",
    "\n",
    "In numpy you can initialize an array of given dimensions with zeros, ones or empty. You have to give the dimensions as either a list of a tuple. When printing the empty array it will act a bit weird, because it is essentially python reserving space in the memory. Which values are in the array depend on whatever was in that memory space before, as it does not set any values. When using empy, you should therefore be careful with using this method and make sure you set all values at some point"
   ]
  },
  {
   "cell_type": "code",
   "execution_count": 19,
   "metadata": {},
   "outputs": [
    {
     "name": "stdout",
     "output_type": "stream",
     "text": [
      "[[0. 0.]\n",
      " [0. 0.]\n",
      " [0. 0.]]\n",
      "[[1. 1.]\n",
      " [1. 1.]]\n",
      "[[0.0000000e+000 0.0000000e+000 0.0000000e+000]\n",
      " [0.0000000e+000 0.0000000e+000 5.7509241e-321]\n",
      " [8.4560344e-307 1.2461147e-306 3.4969413e-317]]\n"
     ]
    }
   ],
   "source": [
    "a = np.zeros( [3,2,] )\n",
    "print(a)\n",
    "b = np.ones( (2,2) )\n",
    "print(b)\n",
    "c = np.empty([3,3])\n",
    "print(c)\n"
   ]
  },
  {
   "cell_type": "markdown",
   "metadata": {},
   "source": [
    "#### Indexing and iterating\n",
    "\n",
    "Indexing (i.e. selecting values out of an array) in ndarrays works very similar to lists. \n"
   ]
  },
  {
   "cell_type": "code",
   "execution_count": 23,
   "metadata": {},
   "outputs": [
    {
     "name": "stdout",
     "output_type": "stream",
     "text": [
      "[[ 0  1  2  3]\n",
      " [ 4  5  6  7]\n",
      " [ 8  9 10 11]\n",
      " [12 13 14 15]]\n"
     ]
    }
   ],
   "source": [
    "a = np.arange(16).reshape((4,4))\n",
    "print(a)\n"
   ]
  },
  {
   "cell_type": "code",
   "execution_count": 24,
   "metadata": {},
   "outputs": [
    {
     "name": "stdout",
     "output_type": "stream",
     "text": [
      "[0 1 2 3]\n"
     ]
    }
   ],
   "source": [
    "# Select the first row\n",
    "print(a[0])\n"
   ]
  },
  {
   "cell_type": "code",
   "execution_count": 25,
   "metadata": {},
   "outputs": [
    {
     "name": "stdout",
     "output_type": "stream",
     "text": [
      "[ 0  4  8 12]\n"
     ]
    }
   ],
   "source": [
    "# Select the first column\n",
    "print(a[:,0])"
   ]
  },
  {
   "cell_type": "markdown",
   "metadata": {},
   "source": [
    "You can also combine indices for 2 or more dimensions:"
   ]
  },
  {
   "cell_type": "code",
   "execution_count": 26,
   "metadata": {},
   "outputs": [
    {
     "name": "stdout",
     "output_type": "stream",
     "text": [
      "5\n",
      "[[10 11]\n",
      " [14 15]]\n"
     ]
    }
   ],
   "source": [
    "print(a[1,1])\n",
    "print(a[2:,2:])"
   ]
  },
  {
   "cell_type": "markdown",
   "metadata": {},
   "source": [
    "You can also index using values of another array. The example below selects the values on the diagonal."
   ]
  },
  {
   "cell_type": "markdown",
   "metadata": {},
   "source": [
    "#### Array attributes\n",
    "An array is an object with builtin atributes that give you information about the array. The most importants ones are:\n",
    "* ndim - number of dimensions\n",
    "* shape - dimensions of the array\n",
    "* dtype - type of the array \n",
    "* T - the transpose of the array\n",
    "\n",
    "Try to see if you can predict what the result is of the code below"
   ]
  },
  {
   "cell_type": "code",
   "execution_count": 41,
   "metadata": {},
   "outputs": [
    {
     "name": "stdout",
     "output_type": "stream",
     "text": [
      "3\n",
      "(3, 4, 3)\n",
      "int32\n"
     ]
    }
   ],
   "source": [
    "a = np.ones((3,4,3), dtype=int)\n",
    "print(a.ndim)\n",
    "print(a.shape)\n",
    "print(a.dtype)"
   ]
  },
  {
   "cell_type": "markdown",
   "metadata": {},
   "source": [
    "ndarray.T holds the transpose of an array (so the columns become rows and the rows become columns)"
   ]
  },
  {
   "cell_type": "code",
   "execution_count": 39,
   "metadata": {},
   "outputs": [
    {
     "name": "stdout",
     "output_type": "stream",
     "text": [
      "[[ 0  1  2]\n",
      " [ 3  4  5]\n",
      " [ 6  7  8]\n",
      " [ 9 10 11]]\n",
      "[[ 0  3  6  9]\n",
      " [ 1  4  7 10]\n",
      " [ 2  5  8 11]]\n"
     ]
    }
   ],
   "source": [
    "a = np.arange(12).reshape(4,3)\n",
    "print(a)\n",
    "print(a.T)"
   ]
  }
 ],
 "metadata": {
  "kernelspec": {
   "display_name": "Python 3",
   "language": "python",
   "name": "python3"
  },
  "language_info": {
   "codemirror_mode": {
    "name": "ipython",
    "version": 3
   },
   "file_extension": ".py",
   "mimetype": "text/x-python",
   "name": "python",
   "nbconvert_exporter": "python",
   "pygments_lexer": "ipython3",
   "version": "3.7.1"
  }
 },
 "nbformat": 4,
 "nbformat_minor": 2
}
