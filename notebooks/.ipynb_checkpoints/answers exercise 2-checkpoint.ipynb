{
 "cells": [
  {
   "cell_type": "markdown",
   "metadata": {},
   "source": [
    "### Exercise 2a: find the even values in this numpy array\n",
    "\n",
    "Use indexing to find all the values in the array that are even. Don't use a for-loop!\n",
    "\n",
    "* Tip 1: Have a look at how the array is made. It uses np.arange, a very useful function. np.arange(start, stop, step) makes an ndarray starting at 'start', stopping at 'stop' (non-inclusive) with a step of 'step'. \n",
    "* Tip 2: Remember an even value is value % 2 == 0"
   ]
  },
  {
   "cell_type": "code",
   "execution_count": 2,
   "metadata": {},
   "outputs": [
    {
     "data": {
      "text/plain": [
       "array([0, 1, 2, 3, 4, 5, 6, 7, 8])"
      ]
     },
     "execution_count": 2,
     "metadata": {},
     "output_type": "execute_result"
    }
   ],
   "source": [
    "import numpy as np\n",
    "array = np.arange(0,10,1) \n"
   ]
  },
  {
   "cell_type": "markdown",
   "metadata": {},
   "source": [
    "### Exercise 2b: replace values below threshold with 0\n",
    "This is a repeat of exercise 1e, but now we're going to use a numpy array and indexing to write the answer in just 1 line. \n",
    "\n",
    "* Tip 1: Don't make a new array, you can just replace the values in 'myarray'"
   ]
  },
  {
   "cell_type": "code",
   "execution_count": 4,
   "metadata": {},
   "outputs": [],
   "source": [
    "myarray = np.array([1,2,9,3,2,8,3,3,11,2])\n",
    "threshold = 5\n"
   ]
  },
  {
   "cell_type": "code",
   "execution_count": null,
   "metadata": {},
   "outputs": [],
   "source": []
  }
 ],
 "metadata": {
  "kernelspec": {
   "display_name": "Python 3",
   "language": "python",
   "name": "python3"
  },
  "language_info": {
   "codemirror_mode": {
    "name": "ipython",
    "version": 3
   },
   "file_extension": ".py",
   "mimetype": "text/x-python",
   "name": "python",
   "nbconvert_exporter": "python",
   "pygments_lexer": "ipython3",
   "version": "3.7.1"
  }
 },
 "nbformat": 4,
 "nbformat_minor": 2
}
