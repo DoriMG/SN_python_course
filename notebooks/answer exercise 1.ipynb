{
 "cells": [
  {
   "cell_type": "markdown",
   "metadata": {},
   "source": [
    "### 1a: save odd numbers into new list"
   ]
  },
  {
   "cell_type": "code",
   "execution_count": 1,
   "metadata": {},
   "outputs": [],
   "source": [
    "all_numbers = list(range(10))\n",
    "odd_numbers = []\n",
    "for no in all_numbers:\n",
    "    if no % 2 == 1:\n",
    "        odd_numbers.append(no)"
   ]
  },
  {
   "cell_type": "markdown",
   "metadata": {},
   "source": [
    "### 1b: find the leaders"
   ]
  },
  {
   "cell_type": "code",
   "execution_count": 3,
   "metadata": {},
   "outputs": [],
   "source": [
    "import random\n",
    "all_numbers = [random.randint(0,50) for i in range(5)]\n",
    "leaders = []\n"
   ]
  },
  {
   "cell_type": "code",
   "execution_count": 4,
   "metadata": {},
   "outputs": [],
   "source": [
    "# Answer without enumerate\n",
    "i = 0\n",
    "for no in all_numbers[:-1]:\n",
    "    if no > sum(all_numbers[i+1:]):\n",
    "        leaders.append(no)\n",
    "    i += 1"
   ]
  },
  {
   "cell_type": "code",
   "execution_count": 5,
   "metadata": {},
   "outputs": [],
   "source": [
    "# Answer with enumerate\n",
    "for i,no in enumerate(all_numbers[:-1]):\n",
    "    if no > sum(all_numbers[i+1:]):\n",
    "        leaders.append(no)"
   ]
  },
  {
   "cell_type": "markdown",
   "metadata": {},
   "source": [
    "### 1c: sum function\n",
    "The goal of this exercise is to write your first function. The function should find the sum of the three numbers inputted into it and return it. You will get the outline of the function and write the function body."
   ]
  },
  {
   "cell_type": "code",
   "execution_count": 8,
   "metadata": {},
   "outputs": [],
   "source": [
    "a = 4\n",
    "b = 3\n",
    "c = 7\n",
    "\n",
    "def find_sum(a,b,c):\n",
    "    answer = a+b+c\n",
    "    return answer\n",
    "\n",
    "# shorter answer\n",
    "def find_sum(a,b,c):\n",
    "    return a+b+c"
   ]
  },
  {
   "cell_type": "markdown",
   "metadata": {},
   "source": [
    "### 1d: outlier function\n",
    "\n",
    "Make a function that takes both a list and a threshold as an input and finds the position of the values in that list that are above the given threshold. "
   ]
  },
  {
   "cell_type": "code",
   "execution_count": 10,
   "metadata": {},
   "outputs": [],
   "source": [
    "mylist = [1,2,9,3,2,8,3,3,11,2]\n",
    "threshold = 5\n",
    "\n",
    "def find_spikes(mylist, threshold):\n",
    "    spikes = []\n",
    "    for i,x in enumerate(mylist):\n",
    "        if x>threshold:\n",
    "            spikes.append(i)\n",
    "    return spikes"
   ]
  },
  {
   "cell_type": "markdown",
   "metadata": {},
   "source": [
    "### 1e: noise reduction\n",
    "Write a function that takes a list of data and sets everything below a threshold to 0. Make the theshold an optional variable."
   ]
  },
  {
   "cell_type": "code",
   "execution_count": 11,
   "metadata": {},
   "outputs": [],
   "source": [
    "mylist = [1,2,9,3,2,8,3,3,11,2]\n",
    "threshold = 5\n",
    "def noise_reduction(mylist, threshold):\n",
    "    for i,x in enumerate(mylist):\n",
    "        if x<threshold:\n",
    "            mylist[i] = 0\n",
    "    return mylist"
   ]
  },
  {
   "cell_type": "markdown",
   "metadata": {},
   "source": [
    "### 1f: cumulative distance\n",
    "Write a function to find the cumulative distance of a list of x,y coordinates. \n",
    "\n",
    "* Tip 1: The input to the list is a 2-dimensional list: each item in the list contains another list with 2 items (the x and y coordinate respectively)\n",
    "* Tip 2: Use the Euclidean distance function that's given to calculate the distance between two points in the list. (see if you can figure out how the function works!)"
   ]
  },
  {
   "cell_type": "code",
   "execution_count": 15,
   "metadata": {},
   "outputs": [],
   "source": [
    "coordinates = [[1,2],\n",
    "               [1,3],\n",
    "               [2,3],\n",
    "               [3,4],\n",
    "               [4,4]]\n",
    "\n",
    "import math\n",
    "def eucl_distance(coor1, coor2):\n",
    "    '''Input:\n",
    "    coor1: list containing [x,y] coordinates\n",
    "    coor2: list containing [x,y] coordinates'''\n",
    "    distance = math.sqrt((coor2[0] - coor1[0])**2 + (coor2[1] - coor1[1])**2)\n",
    "    return distance\n",
    "\n",
    "def find_cumul_distance(coordinates):\n",
    "    cumsum = [0]\n",
    "    for i,coors in enumerate(coordinates[:-1]):\n",
    "        distance = eucl_distance(coors, coordinates[i+1])\n",
    "        cumsum.append(cumsum[i]+distance)\n",
    "    return cumsum"
   ]
  },
  {
   "cell_type": "code",
   "execution_count": null,
   "metadata": {},
   "outputs": [],
   "source": []
  }
 ],
 "metadata": {
  "kernelspec": {
   "display_name": "Python 3",
   "language": "python",
   "name": "python3"
  },
  "language_info": {
   "codemirror_mode": {
    "name": "ipython",
    "version": 3
   },
   "file_extension": ".py",
   "mimetype": "text/x-python",
   "name": "python",
   "nbconvert_exporter": "python",
   "pygments_lexer": "ipython3",
   "version": "3.7.1"
  }
 },
 "nbformat": 4,
 "nbformat_minor": 2
}
