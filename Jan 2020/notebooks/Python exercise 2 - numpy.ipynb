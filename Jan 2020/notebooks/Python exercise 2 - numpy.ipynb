{
 "cells": [
  {
   "cell_type": "markdown",
   "metadata": {},
   "source": [
    "# Introduction to Numpy\n",
    "These exercises go along session 2 of the Python course. If at any point you are unsure what to do, take a look back at the Jupyter notebook from the session. It is divided into 2 parts: \n",
    "- Part 1: Basic NumPy exercises\n",
    "\n",
    "In this part you will learn the basics of NumPy, and it is meant to get you comfortable using NumPy in combination with everything you learned in session 1. \n",
    "- Part 2: Harder exercises\n",
    "\n",
    "These exercises combine the skills the first session and this session. You might have to google to figure some of the steps out. That is totally fine, and an important part of programming!\n",
    "\n"
   ]
  },
  {
   "cell_type": "markdown",
   "metadata": {},
   "source": [
    "## Part 1\n",
    "\n",
    "### 1. Importing the module\n",
    "- Import the NumPy module. Note: there are several ways to do this, have a look at the lesson notebook to remind yourself how. Your answer for the following questions might change slightly depending on how you import NumPy here."
   ]
  },
  {
   "cell_type": "code",
   "execution_count": 2,
   "metadata": {},
   "outputs": [],
   "source": [
    "# Use this cell to do your calculations\n",
    "import numpy as np"
   ]
  },
  {
   "cell_type": "markdown",
   "metadata": {},
   "source": [
    "### 1. Make your first array\n",
    "- a. Make a list with the values [[3,4,5], [6,7,8]]. \n",
    "- b. Convert that list into an NumPy array.\n",
    "- c. How many dimensions does the array have?\n",
    "- d. What is the size of the first dimension?"
   ]
  },
  {
   "cell_type": "code",
   "execution_count": 19,
   "metadata": {},
   "outputs": [
    {
     "name": "stdout",
     "output_type": "stream",
     "text": [
      "2\n",
      "2\n"
     ]
    }
   ],
   "source": [
    "# Use this cell to do your calculations\n",
    "my_list = [[3,4,5], [6,7,8]]\n",
    "my_array = np.array(my_list)\n",
    "print(my_array.ndim)\n",
    "print(my_array.shape[0])"
   ]
  },
  {
   "cell_type": "markdown",
   "metadata": {},
   "source": [
    "### 2. Make your second array with array initialization\n",
    "- a. Make an array that has the shape (3,4) containing all ones\n",
    "- b. Use indexing to change the value of all elements in the second column to 3.\n",
    "- c. Use indexing to output the second row of the array.\n"
   ]
  },
  {
   "cell_type": "code",
   "execution_count": 20,
   "metadata": {},
   "outputs": [
    {
     "data": {
      "text/plain": [
       "array([0., 3., 0., 0.])"
      ]
     },
     "execution_count": 20,
     "metadata": {},
     "output_type": "execute_result"
    }
   ],
   "source": [
    "# Use this cell to do your calculations\n",
    "my_array = np.zeros((3,4))\n",
    "my_array[:,1] = 3\n",
    "my_array[1]"
   ]
  },
  {
   "cell_type": "markdown",
   "metadata": {},
   "source": [
    "### 3. Use array methods\n",
    "- a. Make an array that contains the values 0-14 (hint: try using arange (https://docs.scipy.org/doc/numpy/reference/generated/numpy.arange.html)). The shape should be (15,)\n",
    "- b. Use reshape to give the array the shape (5,3).\n",
    "- c. Find the sum of each row (hint: use the axis parameter)\n",
    "- d. Find the mean of each column (hint: use the axis parameter)"
   ]
  },
  {
   "cell_type": "code",
   "execution_count": 22,
   "metadata": {},
   "outputs": [
    {
     "name": "stdout",
     "output_type": "stream",
     "text": [
      "[ 3 12 21 30 39]\n",
      "[6. 7. 8.]\n"
     ]
    }
   ],
   "source": [
    "# Use this cell to do your calculations\n",
    "my_array = np.arange(15)\n",
    "my_array = my_array.reshape((5,3))\n",
    "\n",
    "# You can do this in one step\n",
    "my_array = np.arange(15).reshape((5,3))\n",
    "print(my_array.sum(axis=1))\n",
    "print(my_array.mean(axis=0))"
   ]
  },
  {
   "cell_type": "markdown",
   "metadata": {},
   "source": [
    "### 4. More array methods\n",
    "- a. Create an array with values 0-8 and shape (3,3). Hint: Use steps a and b from the previous exercise to do this.\n",
    "- b. Use an array method to switch the rows and the columns around\n",
    "- c. Use an array to get the values on the diagonal (hint: https://docs.scipy.org/doc/numpy/reference/generated/numpy.eye.html)\n",
    "- d. Now find the value of each element in the array squared (hint: you don't have to use a for-loop for this!)"
   ]
  },
  {
   "cell_type": "code",
   "execution_count": 23,
   "metadata": {},
   "outputs": [
    {
     "data": {
      "text/plain": [
       "array([[ 0,  9, 36],\n",
       "       [ 1, 16, 49],\n",
       "       [ 4, 25, 64]], dtype=int32)"
      ]
     },
     "execution_count": 23,
     "metadata": {},
     "output_type": "execute_result"
    }
   ],
   "source": [
    "# Use this cell to do your calculations\n",
    "ar = np.arange(9).reshape((3,3))\n",
    "ar = ar.T # Switch rows and columns\n",
    "\n",
    "# Two ways to find the diagonal\n",
    "np.diagonal(ar)\n",
    "ar[np.eye(3,dtype=bool)]\n",
    "\n",
    "# Values squared\n",
    "ar**2"
   ]
  },
  {
   "cell_type": "markdown",
   "metadata": {},
   "source": [
    "### 5. Working with nans\n",
    "- a. Create an array with values 0-11 and shape (4,3). Hint: Use steps a and b from exercise 3 to do this.\n",
    "- b. Set every value in the second row to nan.\n",
    "- c. Find the mean of every column (hint: use the nanmean function to exclude the second row).\n"
   ]
  },
  {
   "cell_type": "code",
   "execution_count": 24,
   "metadata": {},
   "outputs": [
    {
     "name": "stdout",
     "output_type": "stream",
     "text": [
      "[5. 6. 7.]\n"
     ]
    }
   ],
   "source": [
    "# Use this cell to do your calculations\n",
    "ar = np.arange(12, dtype=float).reshape((4,3)) # Have to do dtype=float for the np.nan to work!\n",
    "ar[1,:] = np.nan\n",
    "print(np.nanmean(ar, axis=0))"
   ]
  },
  {
   "cell_type": "markdown",
   "metadata": {},
   "source": [
    "## Part 2\n",
    "### Exercise: Fake neuronal data\n",
    "\n",
    "You now know how to work with numpy arrays. We're going to use a numpy array to analyse our data. The data is generated using the function 'make_data' and is stored in my_data. The data contains (fake) activity traces for a number of cells (the rows), each column is one second. "
   ]
  },
  {
   "cell_type": "code",
   "execution_count": 25,
   "metadata": {},
   "outputs": [],
   "source": [
    "import numpy as np\n",
    "import random\n",
    "\n",
    "def make_data():\n",
    "    my_data = np.random.exponential(1.0, (np.random.randint(0,10), 100))\n",
    "    for row in my_data:\n",
    "        row[random.sample(list(np.arange(100)),5)] = 100\n",
    "    return my_data"
   ]
  },
  {
   "cell_type": "markdown",
   "metadata": {},
   "source": [
    "### 1: Explore the data\n",
    "First we'll use some of the array methods to explore the data. Try to answer the following questions:\n",
    "- a. How many cells are there in the array?\n",
    "- b. How long was the recording (hint: count the number of columns)\n",
    "- c. What is the mean activity of each cell? (hint: use axis to get the right dimension)\n",
    "- d. What is the standard deviation of the activity of each cell?"
   ]
  },
  {
   "cell_type": "code",
   "execution_count": 28,
   "metadata": {},
   "outputs": [
    {
     "data": {
      "text/plain": [
       "array([21.57551948, 21.59837961, 21.56619416, 21.6044498 , 21.59375941,\n",
       "       21.60651932, 21.60507752, 21.60192968])"
      ]
     },
     "execution_count": 28,
     "metadata": {},
     "output_type": "execute_result"
    }
   ],
   "source": [
    "### Write your code here ###\n",
    "my_data = make_data()\n",
    "my_data.shape[0] # number of cells\n",
    "my_data.shape[1] # length of recording\n",
    "print(np.mean(my_data, axis=1)) # Mean activity of each cell\n",
    "print(np.std(my_data, axis=1)) # standard deviation of each cell"
   ]
  },
  {
   "cell_type": "markdown",
   "metadata": {},
   "source": [
    "### 2: Find and replace the outliers\n",
    "Your data has some outliers, any value that is above 20. \n",
    "- a. Find the values above 20 for each cell. How many outliers are there per cell?\n",
    "- b. Replace the outliers with nans\n",
    "- c. Recalculate the mean and the std as above, but exclude the nans. How different are the answers from your answer in question 1?\n"
   ]
  },
  {
   "cell_type": "code",
   "execution_count": 35,
   "metadata": {},
   "outputs": [
    {
     "name": "stdout",
     "output_type": "stream",
     "text": [
      "[1.1182322  0.99001634 1.15215228 0.99109273 1.02639018 0.92164973\n",
      " 0.95823954 0.98017975]\n",
      "[1.05971728 0.94512643 1.01728385 1.08626573 1.02140876 0.76571354\n",
      " 0.93978419 0.97841864]\n"
     ]
    },
    {
     "name": "stderr",
     "output_type": "stream",
     "text": [
      "C:\\Users\\Dori\\Anaconda3\\lib\\site-packages\\ipykernel_launcher.py:2: RuntimeWarning: invalid value encountered in greater\n",
      "  \n"
     ]
    }
   ],
   "source": [
    "### Write your code here ###\n",
    "outliers = my_data>20\n",
    "outliers.sum(axis=1) # Number of outliers per cell\n",
    "\n",
    "my_data[outliers]= np.nan # Replace with nans\n",
    "print(np.nanmean(my_data, axis=1)) # Mean activity of each cell\n",
    "print(np.nanstd(my_data, axis=1)) # standard deviation of each cell"
   ]
  }
 ],
 "metadata": {
  "kernelspec": {
   "display_name": "Python 3",
   "language": "python",
   "name": "python3"
  },
  "language_info": {
   "codemirror_mode": {
    "name": "ipython",
    "version": 3
   },
   "file_extension": ".py",
   "mimetype": "text/x-python",
   "name": "python",
   "nbconvert_exporter": "python",
   "pygments_lexer": "ipython3",
   "version": "3.7.1"
  }
 },
 "nbformat": 4,
 "nbformat_minor": 2
}
