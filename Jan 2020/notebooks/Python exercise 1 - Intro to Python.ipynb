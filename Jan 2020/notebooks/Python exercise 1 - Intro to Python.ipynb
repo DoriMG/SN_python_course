{
 "cells": [
  {
   "cell_type": "markdown",
   "metadata": {},
   "source": [
    "# Introduction to Python exercises\n",
    "These exercises go along session 1 of the Python course. If at any point you are unsure what to do, take a look back at the Jupyter notebook from the session. It is divided into 3 parts: \n",
    "- Part 1: calculations, text operations and compound variables\n",
    "\n",
    "In this part you will learn the very basics of the Python language, and it is meant to get you comfortable with Python. After doing this section you'll know how to do basic calculations, manipulate strings and lists and work with dictionaries and tuples.\n",
    "- Part 2: Conditionals, for-loops and functions\n",
    "\n",
    "In this part we will build on the basics and start using conditionals, for-loops and you will even write your first function. After this section you'll have all the basics of Python down and are ready to start learning NumPy\n",
    "- Part 3: Harder exercises\n",
    "\n",
    "These exercises combine the skills from the previous two. Try to apply what you've learned to complete them"
   ]
  },
  {
   "cell_type": "markdown",
   "metadata": {},
   "source": [
    "## Part 1\n",
    "\n",
    "### 1. Calculations\n",
    "You can use Python as a calculator, try to find the answer to the following sums by executing them in the cell below:\n",
    "- 5 + 10\n",
    "- 14 x 16\n",
    "- 501 - 1\n",
    "- 5^7\n",
    "- 47 ÷ 7"
   ]
  },
  {
   "cell_type": "code",
   "execution_count": 1,
   "metadata": {},
   "outputs": [
    {
     "name": "stdout",
     "output_type": "stream",
     "text": [
      "15\n",
      "224\n",
      "500\n",
      "78125\n",
      "6.714285714285714\n"
     ]
    }
   ],
   "source": [
    "# Use this cell to do your calculations\n",
    "print(5 + 10)\n",
    "print(14*16)\n",
    "print(501-1)\n",
    "print(5**7)\n",
    "print(47/7)"
   ]
  },
  {
   "cell_type": "markdown",
   "metadata": {},
   "source": [
    "### 2. Variables\n",
    "You can save values into variables. Save the answer of each of the calculations below into a variable and use it in the next calculation. What is the value of e?\n",
    "- 5 + 7 -> a\n",
    "- a x 4 -> b\n",
    "- b - 1 -> c\n",
    "- c ^ 2 -> d\n",
    "- d ÷ 5 -> e"
   ]
  },
  {
   "cell_type": "code",
   "execution_count": 3,
   "metadata": {},
   "outputs": [
    {
     "name": "stdout",
     "output_type": "stream",
     "text": [
      "441.8\n"
     ]
    }
   ],
   "source": [
    "# Use this cell for your answer\n",
    "a = 5+7\n",
    "b = a*4\n",
    "c = b-1\n",
    "d = c ** 2\n",
    "e = d/5\n",
    "print(e)"
   ]
  },
  {
   "cell_type": "markdown",
   "metadata": {},
   "source": [
    "### 3. Strings\n",
    "a. You can put text, or 'strings', into variables and do calculations with that. Make two variables that contain the following words:\n",
    "- a -> hello\n",
    "- b -> world\n",
    "\n",
    "b. Now try to use calculations to get the following outputs, just using a and b:\n",
    "- helloworld\n",
    "- hellohello\n",
    "- helloworldworld\n",
    "- helloworldhellohelloworldworld"
   ]
  },
  {
   "cell_type": "code",
   "execution_count": 4,
   "metadata": {},
   "outputs": [
    {
     "name": "stdout",
     "output_type": "stream",
     "text": [
      "helloworld\n",
      "hellohello\n",
      "helloworldworld\n",
      "helloworldhellohelloworldworld\n"
     ]
    }
   ],
   "source": [
    "# Use this cell for your answer\n",
    "a = \"hello\"\n",
    "b = \"world\"\n",
    "print(a+b)\n",
    "print(a*2)\n",
    "print(a + b*2)\n",
    "print(a + b + a*2 + b*2)"
   ]
  },
  {
   "cell_type": "markdown",
   "metadata": {},
   "source": [
    "### 4. Lists\n",
    "a. You can put multiple items in a list, numbers, string, or even other lists. Make the following lists:\n",
    "- listone -> 3, 4, 5, 6\n",
    "- listtwo -> a, b, c, d, e\n",
    "\n",
    "b. After you've made the list, try to predict what the outcome is of the following indexing:\n",
    "- listone[:2]\n",
    "- listone[1:3]\n",
    "- listtwo[-2:]\n",
    "- listtwo[1:4:2]\n",
    "\n",
    "c. Now try to use indexing to get the following answers:\n",
    "- [4, 5, 6]\n",
    "- [3, 5]\n",
    "- ['d', 'e']\n",
    "- ['a', 'd']\n",
    "\n",
    "d. Now try adding items to your original lists\n",
    "- add 7 to listone\n",
    "- add [8,9,10] to listone\n",
    "- add 'f' and 'g' to listtwo"
   ]
  },
  {
   "cell_type": "code",
   "execution_count": 8,
   "metadata": {},
   "outputs": [
    {
     "name": "stdout",
     "output_type": "stream",
     "text": [
      "[3, 4]\n",
      "[4, 5]\n",
      "['d', 'e']\n",
      "['b', 'd']\n",
      "[4, 5, 6]\n",
      "[3, 5]\n",
      "['d', 'e']\n",
      "['a', 'd']\n"
     ]
    }
   ],
   "source": [
    "# Use this cell for your answer\n",
    "listone = [3,4,5,6]\n",
    "listtwo = [\"a\", \"b\", \"c\", \"d\", \"e\"]\n",
    "\n",
    "# b\n",
    "print(listone[:2])\n",
    "print(listone[1:3])\n",
    "print(listtwo[-2:])\n",
    "print(listtwo[1:4:2])\n",
    "\n",
    "# c\n",
    "print(listone[1:])\n",
    "print(listone[::2])\n",
    "print(listtwo[-2:])\n",
    "print(listtwo[0:4:3])"
   ]
  },
  {
   "cell_type": "markdown",
   "metadata": {},
   "source": [
    "### 5. Tuples and dictionaries\n",
    "Tuples and dictionaries are other compound variables that you might use.\n",
    "\n",
    "a. Make a tuple that contains the numbers 1, 2, 3. Use indexing to get only 2 and 3.\n",
    "\n",
    "b. Make a new dictionary with as keys 'one', 'two' and 'three'. Use the values 1, 2, and 3 (respectively). \n",
    "- Find all the keys in the dictionary (so output should be ['one', 'two', 'three'])\n",
    "- Find all the values in the dictionary (so output should be [1, 2, 3])\n",
    "- Find the value that belongs to key 'two'\n",
    "- Change the value of 'two' to 5\n",
    "- Add a new key 'four' with value 4.\n"
   ]
  },
  {
   "cell_type": "code",
   "execution_count": 10,
   "metadata": {},
   "outputs": [
    {
     "name": "stdout",
     "output_type": "stream",
     "text": [
      "(2, 3)\n",
      "dict_keys(['one', 'two', 'three'])\n",
      "dict_values([1, 2, 3])\n",
      "2\n"
     ]
    }
   ],
   "source": [
    "# Use this cell for your answer\n",
    "my_tuple = (1,2,3)\n",
    "print(my_tuple[1:])\n",
    "\n",
    "# b\n",
    "my_dict = {'one': 1,\n",
    "           'two': 2,\n",
    "           'three':3}\n",
    "print(my_dict.keys())\n",
    "print(my_dict.values())\n",
    "print(my_dict['two'])\n",
    "my_dict['two'] = 5\n",
    "my_dict['four'] = 4 # Add new value by just using new key"
   ]
  },
  {
   "cell_type": "markdown",
   "metadata": {},
   "source": [
    "### 6. Combining everything\n",
    "Try to combine everything you've learned to solve the exercise below.\n",
    "- a. Make a dictionary that contains the keys 'forename', and 'surname' and 'age' with as values your first name, your surname and your age. \n",
    "- b. Get your first name and surname from the dictionary and put them into a list.\n",
    "- c. Output your name in this format, use indexing to get them from the list, and use string calculations to get the output: 'My name is [surname], [first name] [surname]'\n",
    "- d. Lastly, output a sentence that says 'My age in dog years is [age in dog years]'. Calculate your age in dog years by getting your age from the dictionary and multiplying it by 7.\n"
   ]
  },
  {
   "cell_type": "code",
   "execution_count": 17,
   "metadata": {},
   "outputs": [
    {
     "name": "stdout",
     "output_type": "stream",
     "text": [
      "My name is Grijseels, Dori Grijseels\n",
      "My age in dog years is 168\n"
     ]
    }
   ],
   "source": [
    "# Use this cell for your answer\n",
    "my_dict = {'forename': 'Dori',\n",
    "           'surname': 'Grijseels',\n",
    "           'age': 24}\n",
    "name_list = [my_dict['forename'], my_dict['surname']]\n",
    "print('My name is ' + name_list[1] + ', ' + name_list[0] + ' ' + name_list[1])\n",
    "print('My age in dog years is ' + str(my_dict['age']*7)) # You need to convert to age to a str in order to add it to another string"
   ]
  },
  {
   "cell_type": "markdown",
   "metadata": {},
   "source": [
    "## Part 2\n",
    "### 1. Conditionals\n",
    "Try to answer the following questions using conditionals:\n",
    "- Is 4/3 the same as 8/6?\n",
    "- Is 5^3 larger than 3^5?\n",
    "- Is 3\\*3 smaller than 4\\*2?\n",
    "\n",
    "\n"
   ]
  },
  {
   "cell_type": "code",
   "execution_count": 18,
   "metadata": {},
   "outputs": [
    {
     "name": "stdout",
     "output_type": "stream",
     "text": [
      "True\n",
      "False\n",
      "False\n"
     ]
    }
   ],
   "source": [
    "# Use this cell for your answer\n",
    "print(4/3 == 8/6)\n",
    "print(5**3 > 3**5)\n",
    "print(3*3 < 4*2)"
   ]
  },
  {
   "cell_type": "markdown",
   "metadata": {},
   "source": [
    "### 2. For-loops\n",
    "For-loops are an important part of programming that you will probably use very often. Try to complete the following exercises\n",
    "- a. Write a for-loop that goes through the list [1,3,5,7] and outputs every value multiplied by 2\n",
    "- b. Write a for-loop that counts up to 10 and outputs each value to the power 2\n",
    "- c. Write a for-loop that outputs number from 1 to 30, but replaces every number that is divisable by 3 by 'fizz'. (hint: use modulus (https://python-reference.readthedocs.io/en/latest/docs/operators/modulus.html)).\n",
    "- d. Repeat exercise c, but additionally replace every number that is divisable by 5 by 'buzz' and every number that is divisable by both by 'fizzbuzz'"
   ]
  },
  {
   "cell_type": "code",
   "execution_count": 23,
   "metadata": {},
   "outputs": [
    {
     "name": "stdout",
     "output_type": "stream",
     "text": [
      "2\n",
      "6\n",
      "10\n",
      "14\n",
      "0\n",
      "1\n",
      "4\n",
      "9\n",
      "16\n",
      "25\n",
      "36\n",
      "49\n",
      "64\n",
      "81\n",
      "fizz\n",
      "1\n",
      "2\n",
      "fizz\n",
      "4\n",
      "5\n",
      "fizz\n",
      "7\n",
      "8\n",
      "fizz\n",
      "10\n",
      "11\n",
      "fizz\n",
      "13\n",
      "14\n",
      "fizz\n",
      "16\n",
      "17\n",
      "fizz\n",
      "19\n",
      "20\n",
      "fizz\n",
      "22\n",
      "23\n",
      "fizz\n",
      "25\n",
      "26\n",
      "fizz\n",
      "28\n",
      "29\n",
      "fizzbuzz\n",
      "1\n",
      "2\n",
      "fizz\n",
      "4\n",
      "buzz\n",
      "fizz\n",
      "7\n",
      "8\n",
      "fizz\n",
      "buzz\n",
      "11\n",
      "fizz\n",
      "13\n",
      "14\n",
      "fizzbuzz\n",
      "16\n",
      "17\n",
      "fizz\n",
      "19\n",
      "buzz\n",
      "fizz\n",
      "22\n",
      "23\n",
      "fizz\n",
      "buzz\n",
      "26\n",
      "fizz\n",
      "28\n",
      "29\n"
     ]
    }
   ],
   "source": [
    "# Use this cell for your answer\n",
    "my_list = [1,3,5,7]\n",
    "for i in my_list:\n",
    "    print(i*2)\n",
    "\n",
    "# b\n",
    "for i in range(10):\n",
    "    print(i**2)\n",
    "    \n",
    "# c\n",
    "for i in range(30):\n",
    "    if i % 3 == 0:\n",
    "        print('fizz')\n",
    "    else:\n",
    "        print(i)\n",
    "\n",
    "# d        \n",
    "for i in range(30):\n",
    "    if i % 3 == 0 and i % 5 == 0:\n",
    "        print('fizzbuzz')\n",
    "    elif i % 3 == 0:\n",
    "        print('fizz')\n",
    "    elif i % 5 == 0:\n",
    "        print('buzz')\n",
    "    else:\n",
    "        print(i)"
   ]
  },
  {
   "cell_type": "markdown",
   "metadata": {},
   "source": [
    "### 3. Functions\n",
    "Functions are a very useful tool, you'll learn more about why in the 'writing good code' part. \n",
    "- a. Make function that takes 2 numbers and outputs the multiple of the two. Test it by calling the function.\n",
    "- b. Take the same function and make the second number optional, if no values are given, it should have the value 2.\n",
    "- c. Modify your function so that it only multiplies the numbers if the first number is smaller than the second, otherwise divide them."
   ]
  },
  {
   "cell_type": "code",
   "execution_count": 29,
   "metadata": {},
   "outputs": [
    {
     "data": {
      "text/plain": [
       "1.5"
      ]
     },
     "execution_count": 29,
     "metadata": {},
     "output_type": "execute_result"
    }
   ],
   "source": [
    "# Use this cell for your answer\n",
    "# a\n",
    "def multiply(a,b):\n",
    "    return a*b\n",
    "\n",
    "# b\n",
    "def multiply(a, b=2):\n",
    "    return a*b\n",
    "\n",
    "# c\n",
    "def multiply(a, b=2):\n",
    "    if a < b:\n",
    "        return a*b\n",
    "    else:\n",
    "        return a/b\n",
    "\n",
    "multiply(3,2)"
   ]
  },
  {
   "cell_type": "markdown",
   "metadata": {},
   "source": [
    "## Part 3\n",
    "The following exercises are a good way to test your knowledge. They are a bit more challenging, so don't get discouraged if you get a bit stuck. Also remember the golden rule of coding: Google is your friend!"
   ]
  },
  {
   "cell_type": "markdown",
   "metadata": {},
   "source": [
    "### 1: save odd numbers into new list\n",
    "\n",
    "You have now learned about variables, lists, if-statements and for-loops, and we're going to bring it into practice with a little exercise. The cell below has the start of some code that takes the list 'all_numbers' and needs to find all the odd numbers in the list and and save them to a new list 'odd_numbers'. You need to use at least a for-loop and an if-statement. \n"
   ]
  },
  {
   "cell_type": "code",
   "execution_count": 32,
   "metadata": {},
   "outputs": [
    {
     "name": "stdout",
     "output_type": "stream",
     "text": [
      "[1, 3, 5, 7, 9]\n"
     ]
    }
   ],
   "source": [
    "all_numbers = list(range(10))\n",
    "odd_numbers = []\n",
    "\n",
    "for i in all_numbers:\n",
    "    if i % 2 == 1:\n",
    "        odd_numbers.append(i)\n",
    "\n",
    "print(odd_numbers)"
   ]
  },
  {
   "cell_type": "markdown",
   "metadata": {},
   "source": [
    "### 2: find the leaders\n",
    "\n",
    "This exercise is slightly more difficult (and can earn you 7 kyu on codewars!). A leader is defined as a number in a list that's bigger than the sum of all the numbers to the right of it. Your code should be able to find all the leaders in the list. Save the leaders into the list 'leaders'. The code creates a list of ints at random, so make sure to run your code a few times and check if it works for every run.\n",
    "\n",
    "Tip 1: you can use the *sum* function to find the sum of elements (e.g. sum(mylist))\n",
    "\n",
    "Tip 2: try to write out your steps by hand before coding it. What for-loop should you use? What is the conditional? "
   ]
  },
  {
   "cell_type": "code",
   "execution_count": 34,
   "metadata": {},
   "outputs": [
    {
     "name": "stdout",
     "output_type": "stream",
     "text": [
      "[49]\n"
     ]
    }
   ],
   "source": [
    "import random\n",
    "all_numbers = [random.randint(0,50) for i in range(5)]\n",
    "leaders = []\n",
    "\n",
    "for i in all_numbers[1:]:\n",
    "    if i > sum(all_numbers[:count]):\n",
    "        leaders.append(i)\n",
    "    count = count+1\n",
    "print(leaders)"
   ]
  },
  {
   "cell_type": "code",
   "execution_count": 35,
   "metadata": {},
   "outputs": [],
   "source": [
    "# Fancy solution:\n",
    "all_numbers = [random.randint(0,50) for i in range(5)]\n",
    "leaders = []\n",
    "\n",
    "for el, i in enumerate(all_numbers[1:]):\n",
    "    if el > sum(all_numbers[:i]):\n",
    "        leaders.append(el)\n"
   ]
  }
 ],
 "metadata": {
  "kernelspec": {
   "display_name": "Python 3",
   "language": "python",
   "name": "python3"
  },
  "language_info": {
   "codemirror_mode": {
    "name": "ipython",
    "version": 3
   },
   "file_extension": ".py",
   "mimetype": "text/x-python",
   "name": "python",
   "nbconvert_exporter": "python",
   "pygments_lexer": "ipython3",
   "version": "3.7.1"
  }
 },
 "nbformat": 4,
 "nbformat_minor": 2
}
