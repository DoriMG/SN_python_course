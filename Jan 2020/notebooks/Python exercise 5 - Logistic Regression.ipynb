{
 "cells": [
  {
   "attachments": {},
   "cell_type": "markdown",
   "metadata": {},
   "source": [
    "### Exercise 5: logistic regression\n",
    "\n",
    "The goal of this exercise is to get familiar with solving a data analysis problem from scratch. Feel free to ask questions, but always try to solve the problem yourself first by googling, looking at documentation, or trying out things. \n",
    "\n",
    "Now is also the time to play around with different IDEs and workflows. Feel free to copy the code below to Spyder and work in Spyder (or any of the other \n",
    "\n",
    "You are given data about iris sepal and petal width and length (X, if you want to know more about the dataset, look at the iris variable). You are also given the classification of each row (y; species of iris, 0, 1 or 2). The goal is to perform logistic regression (a type of classification) on this data. Hint: have a look at the sklearn documentation for logistic regression.\n",
    "\n",
    "If you have finished logistic regression, try to perform an anova to test if the sepal width (first column) differs between the species (y)."
   ]
  },
  {
   "cell_type": "code",
   "execution_count": 11,
   "metadata": {},
   "outputs": [],
   "source": [
    "from sklearn import datasets"
   ]
  },
  {
   "cell_type": "code",
   "execution_count": 12,
   "metadata": {},
   "outputs": [],
   "source": [
    "iris = datasets.load_iris()\n",
    "X = iris.data[:, :4]  # we only take the first two features.\n",
    "y = iris.target"
   ]
  },
  {
   "cell_type": "code",
   "execution_count": null,
   "metadata": {},
   "outputs": [],
   "source": []
  }
 ],
 "metadata": {
  "kernelspec": {
   "display_name": "Python 3",
   "language": "python",
   "name": "python3"
  },
  "language_info": {
   "codemirror_mode": {
    "name": "ipython",
    "version": 3
   },
   "file_extension": ".py",
   "mimetype": "text/x-python",
   "name": "python",
   "nbconvert_exporter": "python",
   "pygments_lexer": "ipython3",
   "version": "3.7.1"
  }
 },
 "nbformat": 4,
 "nbformat_minor": 2
}
