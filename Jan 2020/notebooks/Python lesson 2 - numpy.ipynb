{
 "cells": [
  {
   "cell_type": "markdown",
   "metadata": {},
   "source": [
    "## Part 2: Packages and modules"
   ]
  },
  {
   "cell_type": "markdown",
   "metadata": {},
   "source": [
    "Over 99% of the time, you are not the only person with a particular problem that needs solving. There is a really good chance someone has already implemented a function that you need. If they were nice and organised, they put it in a nice bundle so it's easy to use. We call these collections of functions *modules*. A collection of modules is called a *package*. There are tons of really good packages available for anyone to use (remember, Python is open-source). Most of them will have already been installed in the Anaconda distribution of Python. \n",
    "\n",
    "You can start using a package by calling *import* followed by the package name. There are a couple of ways to do this. For example for the function numpy:"
   ]
  },
  {
   "cell_type": "code",
   "execution_count": null,
   "metadata": {},
   "outputs": [],
   "source": []
  },
  {
   "cell_type": "markdown",
   "metadata": {},
   "source": [
    "* In the first case you import all the functions from numpy. If you want to use any, you'll have to type 'numpy.*function_name*()'.\n",
    "* In the second case, we have abbreviated numpy to np, so you'll just have to type 'np.*function_name*()'.\n",
    "* In the third case, we have just imported one specific function that we wanted, and can now use that by just typing the function name direction (in this case nanmean())\n",
    "* The fourth one is something you generally want to avoid, because it imports all the functions, but you don't have to type either numpy or np before the function name. This can cause confusion, because a given package can contain many functions and you might have another function with the same name, either from a different package, or because you've implemented it yourself. Try to avoid this option"
   ]
  },
  {
   "cell_type": "markdown",
   "metadata": {},
   "source": [
    "#### module help\n",
    "\n",
    "For most packages there is great documentation available. In the case of some of the most-used scientific packages, such as numpy, scikit-learn and matplotlib, this even contains examples and specific use-cases. You can usually just google 'function name package name' (e.g. nanmean numpy) to get all the information.\n",
    "\n",
    "Anohter way to get information on a function is by either typing help(function_name) or function_name?:"
   ]
  },
  {
   "cell_type": "code",
   "execution_count": null,
   "metadata": {},
   "outputs": [],
   "source": []
  },
  {
   "cell_type": "markdown",
   "metadata": {},
   "source": [
    "This will give you an overview of the input parameters, what the default values are, what the function does, the output, and sometimes even some examples."
   ]
  },
  {
   "cell_type": "markdown",
   "metadata": {},
   "source": [
    "### Numpy"
   ]
  },
  {
   "cell_type": "markdown",
   "metadata": {},
   "source": [
    "The most important part of numpy is the n-dimensional arrays or ndarrays. They are objects with a number of builtin methods and attributes that optimize array calculations and indexing. ndarrays are faster and more powerful to work with than lists, and in most cases it is recommended to work with these rather than lists. \n",
    "\n",
    "You can make an array in a number of ways:\n",
    "* Make a list and turn it into an array\n",
    "* Initialize an array with one of the array creation functions\n",
    "* Use another method that results in a ndarray\n",
    "\n",
    "We're going to start with taking a list and turning it into an array:"
   ]
  },
  {
   "cell_type": "code",
   "execution_count": null,
   "metadata": {},
   "outputs": [],
   "source": []
  },
  {
   "cell_type": "code",
   "execution_count": null,
   "metadata": {},
   "outputs": [],
   "source": []
  },
  {
   "cell_type": "markdown",
   "metadata": {},
   "source": [
    "The numpy array function has a number of parameters that you can use. \n",
    "\n",
    "The dtype is the type of the elements in the array (and for numpy arrays all elements must be the same type). Our list only had integers, so the function will automatically assign the dtype as ints. However, maybe we want them to be floats, we can specify this with the dtype function:"
   ]
  },
  {
   "cell_type": "code",
   "execution_count": null,
   "metadata": {},
   "outputs": [],
   "source": []
  },
  {
   "cell_type": "markdown",
   "metadata": {},
   "source": [
    "Another important parameter is the 'copy' parameter. If you copy is True, then the array function will always make a copy of whatever the input was, which means that the values are copied to a new place in the memory with a new pointer. However, if copy is False and the input was already an ndarray, the values will stay in the same place and the new variable will point to the same place in memory. This means that if I change a value in the new variable, the old one will also change!!!"
   ]
  },
  {
   "cell_type": "code",
   "execution_count": null,
   "metadata": {},
   "outputs": [],
   "source": []
  },
  {
   "cell_type": "markdown",
   "metadata": {},
   "source": [
    "You can also specify the number dimensions you want your array to have. This will add singleton dimensions (of size 1) to your array. This may seem a bit silly now, but it could come in handy, for example if you want to combine multiple arrays along that extra dimension"
   ]
  },
  {
   "cell_type": "code",
   "execution_count": null,
   "metadata": {},
   "outputs": [],
   "source": [
    "\n"
   ]
  },
  {
   "cell_type": "markdown",
   "metadata": {},
   "source": [
    "Now let's have a look at the array creation functions. You can find a full list here: https://numpy.org/devdocs/reference/routines.array-creation.html\n",
    "\n",
    "In numpy you can initialize an array of given dimensions with zeros, ones or empty. You have to give the dimensions as either a list of a tuple. When printing the empty array it will act a bit weird, because it is essentially python reserving space in the memory. Which values are in the array depend on whatever was in that memory space before, as it does not set any values. When using empy, you should therefore be careful with using this method and make sure you set all values at some point"
   ]
  },
  {
   "cell_type": "code",
   "execution_count": null,
   "metadata": {},
   "outputs": [],
   "source": []
  },
  {
   "cell_type": "markdown",
   "metadata": {},
   "source": [
    "You can also fill your array with a specified fill value by using the full method. Like all of the method above, this method has additional parameters, most importantly dtype, which you can use to specify the type of the elements in your array"
   ]
  },
  {
   "cell_type": "code",
   "execution_count": null,
   "metadata": {},
   "outputs": [],
   "source": []
  },
  {
   "cell_type": "markdown",
   "metadata": {},
   "source": [
    "All of the functions above have a \\_like function (empty\\_like, ones\\_like, etc), which instead of taking dimensions as input, takes an array as input and makes a new array with the same dimensions:"
   ]
  },
  {
   "cell_type": "code",
   "execution_count": null,
   "metadata": {},
   "outputs": [],
   "source": []
  },
  {
   "cell_type": "markdown",
   "metadata": {},
   "source": [
    "The last way to make numpy arrays is through certain functions that result in an array. We will discuss them in more depth as we discuss the function, for now just a couple of examples:"
   ]
  },
  {
   "cell_type": "code",
   "execution_count": null,
   "metadata": {},
   "outputs": [],
   "source": []
  },
  {
   "cell_type": "markdown",
   "metadata": {},
   "source": [
    "#### Indexing and iterating\n",
    "\n",
    "Indexing (i.e. selecting values out of an array) in ndarrays works very similar to lists. \n"
   ]
  },
  {
   "cell_type": "code",
   "execution_count": null,
   "metadata": {},
   "outputs": [],
   "source": []
  },
  {
   "cell_type": "markdown",
   "metadata": {},
   "source": [
    "You can also combine indices for 2 or more dimensions:"
   ]
  },
  {
   "cell_type": "code",
   "execution_count": null,
   "metadata": {},
   "outputs": [],
   "source": []
  },
  {
   "cell_type": "markdown",
   "metadata": {},
   "source": [
    "You can also index using values of another array. The example below selects the values on the diagonal."
   ]
  },
  {
   "cell_type": "code",
   "execution_count": null,
   "metadata": {},
   "outputs": [],
   "source": []
  },
  {
   "cell_type": "markdown",
   "metadata": {},
   "source": [
    "Like lists, you can *iterate* over a ndarray. This means you can loop through the array to look at every element. when you loop through, you just loop through 1 dimension. That means that if you have a 3D array, every element will be a 2D array. You can use 'nested loops' (i.e. a loop within a loop) to get the individual elements."
   ]
  },
  {
   "cell_type": "code",
   "execution_count": null,
   "metadata": {},
   "outputs": [],
   "source": []
  },
  {
   "cell_type": "markdown",
   "metadata": {},
   "source": [
    "An easier way to get the individual elements is to use the attribute 'flat', which collapses all the dimensions in an ndarray into one long list:"
   ]
  },
  {
   "cell_type": "code",
   "execution_count": null,
   "metadata": {},
   "outputs": [],
   "source": []
  },
  {
   "cell_type": "markdown",
   "metadata": {},
   "source": [
    "#### Array attributes\n",
    "An array is an object with builtin atributes that give you information about the array. The most importants ones are:\n",
    "* ndim - number of dimensions\n",
    "* shape - dimensions of the array\n",
    "* dtype - type of the array \n",
    "* T - the transpose of the array\n",
    "\n",
    "Try to see if you can predict what the result is of the code below"
   ]
  },
  {
   "cell_type": "code",
   "execution_count": null,
   "metadata": {},
   "outputs": [],
   "source": []
  },
  {
   "cell_type": "markdown",
   "metadata": {},
   "source": [
    "ndarray.T holds the transpose of an array (so the columns become rows and the rows become columns)"
   ]
  },
  {
   "cell_type": "code",
   "execution_count": null,
   "metadata": {},
   "outputs": [],
   "source": []
  },
  {
   "cell_type": "markdown",
   "metadata": {},
   "source": [
    "#### Element-wise multiplications\n",
    "You can easily perform element-wise multiplications on any ndarray. There are special methods for matrix-wise multiplications which we'll talk about later"
   ]
  },
  {
   "cell_type": "code",
   "execution_count": null,
   "metadata": {},
   "outputs": [],
   "source": []
  },
  {
   "cell_type": "markdown",
   "metadata": {},
   "source": [
    "#### Array methods\n",
    "There are countless methods you can use on arrays. You will probably encounter most of them while you are working with arrays. Here I'm just going to highlight a few that might come in handy. \n",
    "* reshape\n",
    "* sum, min, max\n",
    "* exp, sqrt"
   ]
  },
  {
   "cell_type": "markdown",
   "metadata": {},
   "source": [
    "Reshape is used to change the shape of an array. There are some restrictions to this, the total size needs to stay the same. "
   ]
  },
  {
   "cell_type": "code",
   "execution_count": null,
   "metadata": {},
   "outputs": [],
   "source": []
  },
  {
   "cell_type": "markdown",
   "metadata": {},
   "source": [
    "If you know one dimension, but not the other, you can put in -1 as the dimension. This will automatically fill in the right dimension if possible"
   ]
  },
  {
   "cell_type": "code",
   "execution_count": null,
   "metadata": {},
   "outputs": [],
   "source": []
  },
  {
   "cell_type": "markdown",
   "metadata": {},
   "source": [
    "The sum, min and max functions do exactly what it says on the tin, they find the sum of the array, the minimum value in the array and the maximum value in the array respectively"
   ]
  },
  {
   "cell_type": "code",
   "execution_count": null,
   "metadata": {},
   "outputs": [],
   "source": []
  },
  {
   "cell_type": "markdown",
   "metadata": {},
   "source": [
    "As you can see, each of these functions find the value over the entire array. However, you might want to find the sum or max of each row. In which case, you can use the 'axis' parameter, which specifies the dimension along which the function is performed. Remember that the dimensions start counting at 0"
   ]
  },
  {
   "cell_type": "code",
   "execution_count": null,
   "metadata": {},
   "outputs": [],
   "source": []
  },
  {
   "cell_type": "markdown",
   "metadata": {},
   "source": [
    "#### Numpy constants\n",
    "\n",
    "Numpy has some constants (variables that always have the same value) built in. They are:\n",
    "* Inf - float representation of a postive infinity\n",
    "* ninf - float representation of a negative infinity \n",
    "* nan - 'Not a Number', used as a placeholder for an unknown value, or may be used to represent an undefinied number (e.g. 0/0)\n",
    "* e - Euler's constant\n",
    "* pi - pi\n",
    "\n",
    "The constants also have associated functions, for example isnan to check if a variable is nan. \n"
   ]
  },
  {
   "cell_type": "code",
   "execution_count": null,
   "metadata": {},
   "outputs": [],
   "source": []
  },
  {
   "cell_type": "code",
   "execution_count": null,
   "metadata": {},
   "outputs": [],
   "source": []
  },
  {
   "cell_type": "markdown",
   "metadata": {},
   "source": [
    "NaN can behave in unexpected ways at times. For example, any comparison will always result in a 'False':"
   ]
  },
  {
   "cell_type": "code",
   "execution_count": null,
   "metadata": {},
   "outputs": [],
   "source": []
  },
  {
   "cell_type": "markdown",
   "metadata": {},
   "source": [
    "If you do any computation with nans, it will always result in a nan:"
   ]
  },
  {
   "cell_type": "code",
   "execution_count": null,
   "metadata": {},
   "outputs": [],
   "source": []
  },
  {
   "cell_type": "markdown",
   "metadata": {},
   "source": [
    "However, NumPy has some functions to deal with this. If you have a numpy array of numbers, but some of them are nans, you can use the 'nanmean' function to calculate the mean. Similarly there are 'nanmax', 'nansum' and 'nanstd' functions. These functions ignore the nan value and calculate the answer based on the other values in the array:."
   ]
  },
  {
   "cell_type": "code",
   "execution_count": null,
   "metadata": {},
   "outputs": [],
   "source": []
  },
  {
   "cell_type": "markdown",
   "metadata": {},
   "source": [
    "### Dot products"
   ]
  },
  {
   "cell_type": "markdown",
   "metadata": {},
   "source": [
    "One of the most important calculation you will do with matrices are dot products. If you are used to matlab, the * will automatically be a dot product, whereas you need to type .* to get the elementwise operation. In Numpy you need to use either the 'dot' function or simply @ to do matrix mulitplications:"
   ]
  },
  {
   "cell_type": "code",
   "execution_count": null,
   "metadata": {},
   "outputs": [],
   "source": []
  },
  {
   "cell_type": "code",
   "execution_count": null,
   "metadata": {},
   "outputs": [],
   "source": []
  },
  {
   "cell_type": "code",
   "execution_count": null,
   "metadata": {},
   "outputs": [],
   "source": []
  }
 ],
 "metadata": {
  "kernelspec": {
   "display_name": "Python 3",
   "language": "python",
   "name": "python3"
  },
  "language_info": {
   "codemirror_mode": {
    "name": "ipython",
    "version": 3
   },
   "file_extension": ".py",
   "mimetype": "text/x-python",
   "name": "python",
   "nbconvert_exporter": "python",
   "pygments_lexer": "ipython3",
   "version": "3.7.1"
  }
 },
 "nbformat": 4,
 "nbformat_minor": 2
}
