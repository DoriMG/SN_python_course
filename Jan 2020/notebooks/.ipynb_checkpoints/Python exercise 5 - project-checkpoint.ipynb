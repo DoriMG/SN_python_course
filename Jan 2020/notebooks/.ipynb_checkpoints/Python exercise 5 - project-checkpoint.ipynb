{
 "cells": [
  {
   "cell_type": "markdown",
   "metadata": {},
   "source": [
    "## Exercise: Project\n",
    "The final part of this course is to apply all your knowledge to a little project. If you have your own data that you want to play with, you're very welcome to. Otherwise, you could find some data online (e.g. at http://crcns.org/). I have provided a some data and a little outline for what kind of analysis I would usually perform on a piece of data like this. "
   ]
  },
  {
   "cell_type": "markdown",
   "metadata": {},
   "source": [
    "### 1. Loading the data\n",
    "In the folder 'project_data' you can find a file called 'Fall.mat'. This file contains fluorescence data outputted by Suite2P, a program written in Python, that analyses two-photon images and extracts cell traces. Fall contains a number of different things. Suite2P provides a description of what everything means here: https://mouseland.github.io/suite2p/_build/html/outputs.html\n",
    "\n",
    "- Try to load the .mat file into Python\n",
    "- Find out what variables are in the file and what they mean (use the suite2p documentation to help).\n",
    "- You will want to use the F variable and iscell variable. Same them into separate variables"
   ]
  },
  {
   "cell_type": "code",
   "execution_count": null,
   "metadata": {},
   "outputs": [],
   "source": []
  },
  {
   "cell_type": "markdown",
   "metadata": {},
   "source": [
    "### 2. Extraction cell traces\n",
    "F contains the fluorescence for each ROI. However, each ROI is not necessarily a true cell. Whether a ROI is a cell is saved in the iscell variable. First we're going to explore the data a bit, and then we're going to take out only the true cells.\n",
    "- Find out how many ROIs there are in total? And how long is the recording? \n",
    "- How many true cells are there? Use the iscell variables for this (note, one column give the probability, the other column gives a 0 or 1 whether it's a cell. You can either use a threshold for the probability, or just use the binary column).\n",
    "- Use indexing to only select the ROIs (i.e. rows in F) that are true cells according to the iscell variable"
   ]
  },
  {
   "cell_type": "code",
   "execution_count": null,
   "metadata": {},
   "outputs": [],
   "source": []
  },
  {
   "cell_type": "markdown",
   "metadata": {},
   "source": [
    "### 3. Plotting the data\n",
    "When analysing data it is a good idea to visualize the data from time to time, just to make sure everything looks okay. We're going to do that at this point.\n",
    "\n",
    "- Plot the first 5 cells in a single plot. Use a legend to tell you which trace is which cell.\n",
    "- Plot the entire array as an image (hint: you need to treat the array as an image (so use imshow)).\n",
    "- Does the data look how you expected? Why/why not? "
   ]
  },
  {
   "cell_type": "code",
   "execution_count": null,
   "metadata": {},
   "outputs": [],
   "source": []
  },
  {
   "cell_type": "markdown",
   "metadata": {},
   "source": [
    "### 4. Load and clean behavioural data\n",
    "The 'project_data' folder also contains a file called 'vel.mat'. This contains the velocity of the mouse during the fluorescence recordings you just loaded. \n",
    "\n",
    "- Load vel.mat and save the data into a variable\n",
    "- Plot the velocity, you can see that it might needs some cleaning. Especially, all the downward spikes are not true data points (as the mouse cannot walk backwards), but they are noise in the data.\n",
    "- Clean the data as best you can. At the very least, set all the downward spikes to NaN."
   ]
  },
  {
   "cell_type": "code",
   "execution_count": null,
   "metadata": {},
   "outputs": [],
   "source": []
  },
  {
   "cell_type": "markdown",
   "metadata": {},
   "source": [
    "### 5. Link the behavioural to the neuronal data\n",
    "Now you've got both the behavioural and the neuronal data, and you can answer some research questions. The questions below are suggestions, but if you have your own ideas of what to do, have a go at trying to implement your own analyses.\n",
    "\n",
    "- How does the overal fluorescence activity link to the velocity? Does it go up/down with increased velocity?\n",
    "- Do all cells repond the same to velocity? Or do you have 'ON' and 'OFF' cells?\n",
    "- How do individual cells respond when the mouse starts running? "
   ]
  },
  {
   "cell_type": "code",
   "execution_count": null,
   "metadata": {},
   "outputs": [],
   "source": []
  }
 ],
 "metadata": {
  "kernelspec": {
   "display_name": "Python 3",
   "language": "python",
   "name": "python3"
  },
  "language_info": {
   "codemirror_mode": {
    "name": "ipython",
    "version": 3
   },
   "file_extension": ".py",
   "mimetype": "text/x-python",
   "name": "python",
   "nbconvert_exporter": "python",
   "pygments_lexer": "ipython3",
   "version": "3.7.1"
  }
 },
 "nbformat": 4,
 "nbformat_minor": 2
}
