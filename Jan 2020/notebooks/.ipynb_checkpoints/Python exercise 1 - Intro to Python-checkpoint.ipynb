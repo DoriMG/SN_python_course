{
 "cells": [
  {
   "cell_type": "markdown",
   "metadata": {},
   "source": [
    "# Introduction to Python exercises\n",
    "These exercises go along session 1 of the Python course. If at any point you are unsure what to do, take a look back at the Jupyter notebook from the session. It is divided into 3 parts: \n",
    "- Part 1: calculations, text operations and compound variables\n",
    "\n",
    "In this part you will learn the very basics of the Python language, and it is meant to get you comfortable with Python. After doing this section you'll know how to do basic calculations, manipulate strings and lists and work with dictionaries and tuples.\n",
    "- Part 2: Conditionals, for-loops and functions\n",
    "\n",
    "In this part we will build on the basics and start using conditionals, for-loops and you will even write your first function. After this section you'll have all the basics of Python down and are ready to start learning NumPy\n",
    "- Part 3: Harder exercises\n",
    "\n",
    "These exercises combine the skills from the previous two. Try to apply what you've learned to complete them"
   ]
  },
  {
   "cell_type": "markdown",
   "metadata": {},
   "source": [
    "## Part 1\n",
    "\n",
    "### 1. Calculations\n",
    "You can use Python as a calculator, try to find the answer to the following sums by executing them in the cell below:\n",
    "- 5 + 10\n",
    "- 14 x 16\n",
    "- 501 - 1\n",
    "- 5^7\n",
    "- 47 ÷ 7"
   ]
  },
  {
   "cell_type": "code",
   "execution_count": 4,
   "metadata": {
    "collapsed": true
   },
   "outputs": [],
   "source": [
    "# Use this cell to do your calculations\n"
   ]
  },
  {
   "cell_type": "markdown",
   "metadata": {},
   "source": [
    "### 2. Variables\n",
    "You can save values into variables. Save the answer of each of the calculations below into a variable and use it in the next calculation. What is the value of e?\n",
    "- 5 + 7 -> a\n",
    "- a x 4 -> b\n",
    "- b - 1 -> c\n",
    "- c ^ 2 -> d\n",
    "- d ÷ 5 -> e"
   ]
  },
  {
   "cell_type": "code",
   "execution_count": 7,
   "metadata": {
    "collapsed": true
   },
   "outputs": [],
   "source": [
    "# Use this cell for your answer\n"
   ]
  },
  {
   "cell_type": "markdown",
   "metadata": {},
   "source": [
    "### 3. Strings\n",
    "a. You can put text, or 'strings', into variables and do calculations with that. Make two variables that contain the following words:\n",
    "- a -> hello\n",
    "- b -> world\n",
    "\n",
    "b. Now try to use calculations to get the following outputs, just using a and b:\n",
    "- helloworld\n",
    "- hellohello\n",
    "- helloworldworld\n",
    "- helloworldhellohelloworldworld"
   ]
  },
  {
   "cell_type": "code",
   "execution_count": 24,
   "metadata": {
    "collapsed": true
   },
   "outputs": [],
   "source": [
    "# Use this cell for your answer\n"
   ]
  },
  {
   "cell_type": "markdown",
   "metadata": {},
   "source": [
    "### 4. Lists\n",
    "a. You can put multiple items in a list, numbers, string, or even other lists. Make the following lists:\n",
    "- listone -> 3, 4, 5, 6\n",
    "- listtwo -> a, b, c, d, e\n",
    "\n",
    "b. After you've made the list, try to predict what the outcome is of the following indexing:\n",
    "- listone[:2]\n",
    "- listone[1:3]\n",
    "- listtwo[-2:]\n",
    "- listtwo[1:4:2]\n",
    "\n",
    "c. Now try to use indexing to get the following answers:\n",
    "- [4, 5, 6]\n",
    "- [3, 5]\n",
    "- ['d', 'e']\n",
    "- ['a', 'd']\n",
    "\n",
    "d. Now try adding items to your original lists\n",
    "- add 7 to listone\n",
    "- add [8,9,10] to listone\n",
    "- add 'f' and 'g' to listtwo"
   ]
  },
  {
   "cell_type": "code",
   "execution_count": 25,
   "metadata": {
    "collapsed": true
   },
   "outputs": [],
   "source": [
    "# Use this cell for your answer\n"
   ]
  },
  {
   "cell_type": "markdown",
   "metadata": {},
   "source": [
    "### 5. Tuples and dictionaries\n",
    "Tuples and dictionaries are other compound variables that you might use.\n",
    "\n",
    "a. Make a tuple that contains the numbers 1, 2, 3. Use indexing to get only 2 and 3.\n",
    "\n",
    "b. Make a new dictionary with as keys 'one', 'two' and 'three'. Use the values 1, 2, and 3 (respectively). \n",
    "- Find all the keys in the dictionary (so output should be ['one', 'two', 'three'])\n",
    "- Find all the values in the dictionary (so output should be [1, 2, 3])\n",
    "- Find the value that belongs to key 'two'\n",
    "- Change the value of 'two' to 5\n",
    "- Add a new key 'four' with value 4.\n"
   ]
  },
  {
   "cell_type": "code",
   "execution_count": 26,
   "metadata": {
    "collapsed": true
   },
   "outputs": [],
   "source": [
    "# Use this cell for your answer\n"
   ]
  },
  {
   "cell_type": "markdown",
   "metadata": {},
   "source": [
    "### 6. Combining everything\n",
    "Try to combine everything you've learned to solve the exercise below.\n",
    "- a. Make a dictionary that contains the keys 'forename', and 'surname' and 'age' with as values your first name, your surname and your age. \n",
    "- b. Get your first name and surname from the dictionary and put them into a list.\n",
    "- c. Output your name in this format, use indexing to get them from the list, and use string calculations to get the output: 'My name is [surname], [first name] [surname]'\n",
    "- d. Lastly, output a sentence that says 'My age in dog years is [age in dog years]'. Calculate your age in dog years by getting your age from the dictionary and multiplying it by 7.\n"
   ]
  },
  {
   "cell_type": "code",
   "execution_count": null,
   "metadata": {
    "collapsed": true
   },
   "outputs": [],
   "source": [
    "# Use this cell for your answer\n"
   ]
  },
  {
   "cell_type": "markdown",
   "metadata": {},
   "source": [
    "## Part 2\n",
    "### 1. Conditionals\n",
    "Try to answer the following questions using conditionals:\n",
    "- Is 4/3 the same as 8/6?\n",
    "- Is 5^3 larger than 3^5?\n",
    "- Is 3\\*3 smaller than 4\\*2?\n",
    "\n",
    "\n"
   ]
  },
  {
   "cell_type": "code",
   "execution_count": 28,
   "metadata": {},
   "outputs": [],
   "source": [
    "# Use this cell for your answer\n"
   ]
  },
  {
   "cell_type": "markdown",
   "metadata": {},
   "source": [
    "### 2. For-loops\n",
    "For-loops are an important part of programming that you will probably use very often. Try to complete the following exercises\n",
    "- a. Write a for-loop that goes through the list [1,3,5,7] and outputs every value multiplied by 2\n",
    "- b. Write a for-loop that counts up to 10 and outputs each value to the power 2\n",
    "- c. Write a for-loop that outputs number from 1 to 30, but replaces every number that is divisable by 3 by 'fizz'. (hint: use modulus (https://python-reference.readthedocs.io/en/latest/docs/operators/modulus.html)).\n",
    "- d. Repeat exercise c, but additionally replace every number that is divisable by 5 by 'buzz' and every number that is divisable by both by 'fizzbuzz'"
   ]
  },
  {
   "cell_type": "code",
   "execution_count": null,
   "metadata": {
    "collapsed": true
   },
   "outputs": [],
   "source": [
    "# Use this cell for your answer\n"
   ]
  },
  {
   "cell_type": "markdown",
   "metadata": {},
   "source": [
    "### 3. Functions\n",
    "Functions are a very useful tool, you'll learn more about why in the 'writing good code' part. \n",
    "- a. Make function that takes 2 numbers and outputs the multiple of the two. Test it by calling the function.\n",
    "- b. Take the same function and make the second number optional, if no values are given, it should have the value 2.\n",
    "- c. Modify your function so that it only multiplies the numbers if the first number is smaller than the second, otherwise divide them."
   ]
  },
  {
   "cell_type": "markdown",
   "metadata": {},
   "source": [
    "## Part 3\n",
    "The following exercises are a good way to test your knowledge. They are a bit more challenging, so don't get discouraged if you get a bit stuck. Also remember the golden rule of coding: Google is your friend!"
   ]
  },
  {
   "cell_type": "markdown",
   "metadata": {},
   "source": [
    "### 1: save odd numbers into new list\n",
    "\n",
    "You have now learned about variables, lists, if-statements and for-loops, and we're going to bring it into practice with a little exercise. The cell below has the start of some code that takes the list 'all_numbers' and needs to find all the odd numbers in the list and and save them to a new list 'odd_numbers'. You need to use at least a for-loop and an if-statement. \n",
    "\n",
    "After you're done, you can execute the second cell to test whether you found the right answer."
   ]
  },
  {
   "cell_type": "code",
   "execution_count": 1,
   "metadata": {
    "collapsed": true
   },
   "outputs": [],
   "source": [
    "all_numbers = list(range(10))\n",
    "odd_numbers = []\n"
   ]
  },
  {
   "cell_type": "markdown",
   "metadata": {},
   "source": [
    "### 2: find the leaders\n",
    "\n",
    "This exercise is slightly more difficult (and can earn you 7 kyu on codewars!). A leader is defined as a number in a list that's bigger than the sum of all the numbers to the right of it. Your code should be able to find all the leaders in the list. Save the leaders into the list 'leaders'. The code creates a list of ints at random, so make sure to run your code a few times and check if it works for every run.\n",
    "\n",
    "Tip 1: you can use the *sum* function to find the sum of elements (e.g. sum(mylist))\n",
    "\n",
    "Tip 2: try to write out your steps by hand before coding it. What for-loop should you use? What is the conditional? "
   ]
  },
  {
   "cell_type": "code",
   "execution_count": 3,
   "metadata": {
    "collapsed": true
   },
   "outputs": [],
   "source": [
    "import random\n",
    "all_numbers = [random.randint(0,50) for i in range(5)]\n",
    "leaders = []\n"
   ]
  }
 ],
 "metadata": {
  "kernelspec": {
   "display_name": "Python 3",
   "language": "python",
   "name": "python3"
  },
  "language_info": {
   "codemirror_mode": {
    "name": "ipython",
    "version": 3
   },
   "file_extension": ".py",
   "mimetype": "text/x-python",
   "name": "python",
   "nbconvert_exporter": "python",
   "pygments_lexer": "ipython3",
   "version": "3.6.1"
  }
 },
 "nbformat": 4,
 "nbformat_minor": 2
}
