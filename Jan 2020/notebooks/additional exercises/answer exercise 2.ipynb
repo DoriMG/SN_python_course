{
 "cells": [
  {
   "cell_type": "markdown",
   "metadata": {},
   "source": [
    "### Exercise 2a: find the even values in this numpy array\n",
    "\n",
    "Use indexing to find all the values in the array that are even. Don't use a for-loop!\n",
    "\n",
    "* Hint 1: Have a look at how the array is made. It uses np.arange, a very useful function. np.arange(start, stop, step) makes an ndarray starting at 'start', stopping at 'stop' (non-inclusive) with a step of 'step'. \n",
    "* Hint 2: Remember an even value is value % 2 == 0"
   ]
  },
  {
   "cell_type": "code",
   "execution_count": 7,
   "metadata": {},
   "outputs": [
    {
     "name": "stdout",
     "output_type": "stream",
     "text": [
      "[0 2 4 6 8]\n"
     ]
    }
   ],
   "source": [
    "import numpy as np\n",
    "array = np.arange(0,10,1) \n",
    "answer = array[array % 2 == 0]\n",
    "print(answer)"
   ]
  },
  {
   "cell_type": "markdown",
   "metadata": {},
   "source": [
    "### Exercise 2b: replace values below threshold with 0\n",
    "This is a repeat of exercise 1e, but now we're going to use a numpy array and indexing to write the answer in just 1 line. \n",
    "\n",
    "* Tip 1: Don't make a new array, you can just replace the values in 'myarray'"
   ]
  },
  {
   "cell_type": "code",
   "execution_count": 10,
   "metadata": {},
   "outputs": [
    {
     "name": "stdout",
     "output_type": "stream",
     "text": [
      "[ 0  0  9  0  0  8  0  0 11  0]\n"
     ]
    }
   ],
   "source": [
    "myarray = np.array([1,2,9,3,2,8,3,3,11,2])\n",
    "threshold = 5\n",
    "myarray[myarray < threshold] = 0\n",
    "print(myarray)"
   ]
  },
  {
   "cell_type": "markdown",
   "metadata": {},
   "source": [
    "### Exercise 2c: find the positions\n",
    "Find the positions in the array where the array is exactly 3.\n",
    "\n",
    "* Hint 1: You will need to use the function np.where. Find out more about the function in the documentation: https://docs.scipy.org/doc/numpy/reference/generated/numpy.where.html\n"
   ]
  },
  {
   "cell_type": "code",
   "execution_count": 27,
   "metadata": {},
   "outputs": [],
   "source": [
    "myarray = np.array([1,2,9,3,2,8,3,3,11,2])\n",
    "answer = np.where(myarray == 3)[0]"
   ]
  },
  {
   "cell_type": "markdown",
   "metadata": {},
   "source": [
    "### Exercise 2d: Find mean, median and standard deviation\n",
    "Find the mean, median and standard deviation of the array. Use a numpy function for this\n",
    "\n",
    "* Hint 1: Try to google 'numpy mean' to find the documentation for the function"
   ]
  },
  {
   "cell_type": "code",
   "execution_count": 28,
   "metadata": {},
   "outputs": [
    {
     "name": "stdout",
     "output_type": "stream",
     "text": [
      "mean:  4.4\n",
      "median:  3.0\n",
      "std:  3.352610922848042\n"
     ]
    }
   ],
   "source": [
    "myarray = np.array([1,2,9,3,2,8,3,3,11,2])\n",
    "print('mean: ', np.mean(myarray))\n",
    "print('median: ', np.median(myarray))\n",
    "print('std: ', np.std(myarray))"
   ]
  },
  {
   "cell_type": "markdown",
   "metadata": {},
   "source": [
    "### Exercise 2e: Find mean, median and standard deviation of each row\n",
    "Find the mean, median and standard deviation of each row in the array. Use the same numpy function as above, but you need to add the axis parameter. Read through the documentation or use the help function if you're not sure how to use it.\n"
   ]
  },
  {
   "cell_type": "code",
   "execution_count": 29,
   "metadata": {},
   "outputs": [
    {
     "name": "stdout",
     "output_type": "stream",
     "text": [
      "mean:  [2. 5. 8.]\n",
      "median:  [2. 5. 8.]\n",
      "std:  [0.81649658 0.81649658 0.81649658]\n"
     ]
    }
   ],
   "source": [
    "myarray = np.array([[1,2,3],\n",
    "                    [4,5,6],\n",
    "                    [7,8,9]])\n",
    "print('mean: ', np.mean(myarray,  axis=1))\n",
    "print('median: ', np.median(myarray,  axis=1))\n",
    "print('std: ', np.std(myarray,  axis=1))"
   ]
  },
  {
   "cell_type": "markdown",
   "metadata": {},
   "source": [
    "### Exercise 2f: Time spent in quadrants\n",
    "This array contains  the quadrant a mouse was in at each time point (in seconds). Find the total time (i.e. how often that number appears in the array) for each quadrant.\n",
    "\n",
    "* Hint 1: You can do this either using indexing (like above) or using the 'unique' function (https://docs.scipy.org/doc/numpy/reference/generated/numpy.unique.html)\n",
    "* Hint 2: Have a look at how the quadrants variable was made and see if you can figure out how to make a quadrants array with 200 values from 1 to 6."
   ]
  },
  {
   "cell_type": "code",
   "execution_count": 35,
   "metadata": {},
   "outputs": [
    {
     "name": "stdout",
     "output_type": "stream",
     "text": [
      "[19 27 28 26]\n"
     ]
    },
    {
     "data": {
      "text/plain": [
       "[19, 27, 28, 26]"
      ]
     },
     "execution_count": 35,
     "metadata": {},
     "output_type": "execute_result"
    }
   ],
   "source": [
    "quadrants = np.random.choice([1,2,3,4],100)\n",
    "u, count = np.unique(quadrants,return_counts=True)\n",
    "print(count)\n",
    "\n",
    "#Alternative:\n",
    "counts = []\n",
    "for i in range(1,5):\n",
    "    count = len(quadrants[quadrants==i])\n",
    "    counts.append(count)\n",
    "counts"
   ]
  },
  {
   "cell_type": "markdown",
   "metadata": {},
   "source": [
    "### Exercise 2g: cumulative distance in numpy\n",
    "Write a function to find the cumulative distance of a list of x,y coordinates. However, this time we are going to use a numpy array and you need to use a scipy function to calculate the distance. \n",
    "\n",
    "* Hint 1: Scipy distance has already been imported for you, which means that now you can use the distance functions. You will need to use distance.euclidean (more info here https://docs.scipy.org/doc/scipy-0.14.0/reference/generated/scipy.spatial.distance.euclidean.html)"
   ]
  },
  {
   "cell_type": "code",
   "execution_count": 1,
   "metadata": {},
   "outputs": [
    {
     "ename": "NameError",
     "evalue": "name 'np' is not defined",
     "output_type": "error",
     "traceback": [
      "\u001b[1;31m---------------------------------------------------------------------------\u001b[0m",
      "\u001b[1;31mNameError\u001b[0m                                 Traceback (most recent call last)",
      "\u001b[1;32m<ipython-input-1-010b234d6342>\u001b[0m in \u001b[0;36m<module>\u001b[1;34m\u001b[0m\n\u001b[0;32m      1\u001b[0m \u001b[1;32mfrom\u001b[0m \u001b[0mscipy\u001b[0m\u001b[1;33m.\u001b[0m\u001b[0mspatial\u001b[0m \u001b[1;32mimport\u001b[0m \u001b[0mdistance\u001b[0m\u001b[1;33m\u001b[0m\u001b[1;33m\u001b[0m\u001b[0m\n\u001b[1;32m----> 2\u001b[1;33m coordinates = np.array(\n\u001b[0m\u001b[0;32m      3\u001b[0m               [[1,2],\n\u001b[0;32m      4\u001b[0m                \u001b[1;33m[\u001b[0m\u001b[1;36m1\u001b[0m\u001b[1;33m,\u001b[0m\u001b[1;36m3\u001b[0m\u001b[1;33m]\u001b[0m\u001b[1;33m,\u001b[0m\u001b[1;33m\u001b[0m\u001b[1;33m\u001b[0m\u001b[0m\n\u001b[0;32m      5\u001b[0m                \u001b[1;33m[\u001b[0m\u001b[1;36m2\u001b[0m\u001b[1;33m,\u001b[0m\u001b[1;36m3\u001b[0m\u001b[1;33m]\u001b[0m\u001b[1;33m,\u001b[0m\u001b[1;33m\u001b[0m\u001b[1;33m\u001b[0m\u001b[0m\n",
      "\u001b[1;31mNameError\u001b[0m: name 'np' is not defined"
     ]
    }
   ],
   "source": [
    "from scipy.spatial import distance\n",
    "coordinates = np.array(\n",
    "              [[1,2],\n",
    "               [1,3],\n",
    "               [2,3],\n",
    "               [3,4],\n",
    "               [4,4]])\n",
    "\n",
    "cumsum = [0]\n",
    "for i,coors in enumerate(coordinates[:-1]):\n",
    "    d = distance.euclidean(coors, coordinates[i+1])\n",
    "    cumsum.append(cumsum[i]+d)"
   ]
  },
  {
   "cell_type": "markdown",
   "metadata": {},
   "source": [
    "### Exercise 2h: load data into a numpy array\n",
    "In the folder 'data' you find a csv-file called 'loco'. You can load data like this into numpy using the function 'genfromtxt' (https://numpy.org/devdocs/user/basics.io.genfromtxt.html). Try to load the data and find the maximum location in the array. \n",
    "\n",
    "* Hint 1: Open the file to check out what the data looks like. \n",
    "* Hint 2: You want to skip the header, the delimiter is ',' and you will only need the second column. You can set all of these things using the parameters in the genfromtxt function\n"
   ]
  },
  {
   "cell_type": "code",
   "execution_count": 16,
   "metadata": {},
   "outputs": [
    {
     "data": {
      "text/plain": [
       "31956.465"
      ]
     },
     "execution_count": 16,
     "metadata": {},
     "output_type": "execute_result"
    }
   ],
   "source": [
    "import os\n",
    "datafile = os.path.join('data', 'loco.csv')\n",
    "\n",
    "data = np.genfromtxt(datafile,  delimiter=',',skip_header=1, usecols=(1))\n",
    "np.nanmax(data) # Use nanmax here in case there is a nan in the data"
   ]
  },
  {
   "cell_type": "code",
   "execution_count": null,
   "metadata": {},
   "outputs": [],
   "source": []
  }
 ],
 "metadata": {
  "kernelspec": {
   "display_name": "Python 3",
   "language": "python",
   "name": "python3"
  },
  "language_info": {
   "codemirror_mode": {
    "name": "ipython",
    "version": 3
   },
   "file_extension": ".py",
   "mimetype": "text/x-python",
   "name": "python",
   "nbconvert_exporter": "python",
   "pygments_lexer": "ipython3",
   "version": "3.7.1"
  }
 },
 "nbformat": 4,
 "nbformat_minor": 2
}
