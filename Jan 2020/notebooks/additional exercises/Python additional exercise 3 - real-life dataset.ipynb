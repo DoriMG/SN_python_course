{
 "cells": [
  {
   "cell_type": "markdown",
   "metadata": {},
   "source": [
    "### Test your knowledge on a real-life dataset\n",
    "In the data folder you can find the dataset 'parkinson'. This dataset contains information about the medication and speech patterns of Parkinson's patients (original: https://www.kaggle.com/ruslankl/early-biomarkers-of-parkinsons-disease/downloads/early-biomarkers-of-parkinsons-disease.zip/2). The data is loaded into the variable data. This is what the data in each column represents:\n",
    "\n",
    "1. Age (years)\n",
    "2. Age of disease onset (years)\n",
    "3. Duration of disease from first symptoms (years)\n",
    "4. Levodopa equivalent (mg/day)\n",
    "5. Clonazepam (mg/day)\n",
    "6. Duration of pause intervals (ms)\n",
    "7. Duration of voiced intervals (ms)\n",
    "8. Gaping in-between voiced intervals (-/min)\n",
    "9. Duration of unvoiced stops (ms)\n",
    "\n",
    "Your task is to pose at least one research question about this data and try to answer it using Python programming. Try to als plot at least 1 graph. \n",
    "* What is the average age and distribution of disease onset.\n",
    "* Is there a relation between the duraction of disease from first symptoms and the duration of pause intervals?\n",
    "* Do patients with a higher dose of a levodopa equivalent have less extreme symptoms (e.g. shorter unvoiced stops)?"
   ]
  },
  {
   "cell_type": "code",
   "execution_count": 6,
   "metadata": {},
   "outputs": [],
   "source": [
    "import numpy as np"
   ]
  },
  {
   "cell_type": "code",
   "execution_count": 26,
   "metadata": {},
   "outputs": [],
   "source": [
    "data = np.genfromtxt('data/parkinson.csv', skip_header=1, delimiter=',')"
   ]
  }
 ],
 "metadata": {
  "kernelspec": {
   "display_name": "Python 3",
   "language": "python",
   "name": "python3"
  },
  "language_info": {
   "codemirror_mode": {
    "name": "ipython",
    "version": 3
   },
   "file_extension": ".py",
   "mimetype": "text/x-python",
   "name": "python",
   "nbconvert_exporter": "python",
   "pygments_lexer": "ipython3",
   "version": "3.7.1"
  }
 },
 "nbformat": 4,
 "nbformat_minor": 2
}
